{
  "nbformat": 4,
  "nbformat_minor": 0,
  "metadata": {
    "colab": {
      "name": "Hackerearth_contest.ipynb",
      "provenance": [],
      "collapsed_sections": []
    },
    "kernelspec": {
      "name": "python3",
      "display_name": "Python 3"
    },
    "accelerator": "GPU",
    "widgets": {
      "application/vnd.jupyter.widget-state+json": {
        "3b60867d4fa1493d9b139cc76b501eb1": {
          "model_module": "@jupyter-widgets/controls",
          "model_name": "HBoxModel",
          "state": {
            "_view_name": "HBoxView",
            "_dom_classes": [],
            "_model_name": "HBoxModel",
            "_view_module": "@jupyter-widgets/controls",
            "_model_module_version": "1.5.0",
            "_view_count": null,
            "_view_module_version": "1.5.0",
            "box_style": "",
            "layout": "IPY_MODEL_6b2db6df158647e9b82ae47ff990d991",
            "_model_module": "@jupyter-widgets/controls",
            "children": [
              "IPY_MODEL_05d1cd9d22dd4fb3b2e7e4c4d87c2318",
              "IPY_MODEL_930c86fd1ee2426db6bf13d84d4ab0b7"
            ]
          }
        },
        "6b2db6df158647e9b82ae47ff990d991": {
          "model_module": "@jupyter-widgets/base",
          "model_name": "LayoutModel",
          "state": {
            "_view_name": "LayoutView",
            "grid_template_rows": null,
            "right": null,
            "justify_content": null,
            "_view_module": "@jupyter-widgets/base",
            "overflow": null,
            "_model_module_version": "1.2.0",
            "_view_count": null,
            "flex_flow": null,
            "width": null,
            "min_width": null,
            "border": null,
            "align_items": null,
            "bottom": null,
            "_model_module": "@jupyter-widgets/base",
            "top": null,
            "grid_column": null,
            "overflow_y": null,
            "overflow_x": null,
            "grid_auto_flow": null,
            "grid_area": null,
            "grid_template_columns": null,
            "flex": null,
            "_model_name": "LayoutModel",
            "justify_items": null,
            "grid_row": null,
            "max_height": null,
            "align_content": null,
            "visibility": null,
            "align_self": null,
            "height": null,
            "min_height": null,
            "padding": null,
            "grid_auto_rows": null,
            "grid_gap": null,
            "max_width": null,
            "order": null,
            "_view_module_version": "1.2.0",
            "grid_template_areas": null,
            "object_position": null,
            "object_fit": null,
            "grid_auto_columns": null,
            "margin": null,
            "display": null,
            "left": null
          }
        },
        "05d1cd9d22dd4fb3b2e7e4c4d87c2318": {
          "model_module": "@jupyter-widgets/controls",
          "model_name": "FloatProgressModel",
          "state": {
            "_view_name": "ProgressView",
            "style": "IPY_MODEL_6ba84766c8a541c888ab39f94385e7b0",
            "_dom_classes": [],
            "description": "100%",
            "_model_name": "FloatProgressModel",
            "bar_style": "success",
            "max": 266860719,
            "_view_module": "@jupyter-widgets/controls",
            "_model_module_version": "1.5.0",
            "value": 266860719,
            "_view_count": null,
            "_view_module_version": "1.5.0",
            "orientation": "horizontal",
            "min": 0,
            "description_tooltip": null,
            "_model_module": "@jupyter-widgets/controls",
            "layout": "IPY_MODEL_2f531641ac354b86913bd2ee592943a1"
          }
        },
        "930c86fd1ee2426db6bf13d84d4ab0b7": {
          "model_module": "@jupyter-widgets/controls",
          "model_name": "HTMLModel",
          "state": {
            "_view_name": "HTMLView",
            "style": "IPY_MODEL_92159aba2be74bc4a469275284f6b761",
            "_dom_classes": [],
            "description": "",
            "_model_name": "HTMLModel",
            "placeholder": "​",
            "_view_module": "@jupyter-widgets/controls",
            "_model_module_version": "1.5.0",
            "value": " 254M/254M [00:09&lt;00:00, 29.3MB/s]",
            "_view_count": null,
            "_view_module_version": "1.5.0",
            "description_tooltip": null,
            "_model_module": "@jupyter-widgets/controls",
            "layout": "IPY_MODEL_3a2c833f4b004ee4a7d15861e7568dc1"
          }
        },
        "6ba84766c8a541c888ab39f94385e7b0": {
          "model_module": "@jupyter-widgets/controls",
          "model_name": "ProgressStyleModel",
          "state": {
            "_view_name": "StyleView",
            "_model_name": "ProgressStyleModel",
            "description_width": "initial",
            "_view_module": "@jupyter-widgets/base",
            "_model_module_version": "1.5.0",
            "_view_count": null,
            "_view_module_version": "1.2.0",
            "bar_color": null,
            "_model_module": "@jupyter-widgets/controls"
          }
        },
        "2f531641ac354b86913bd2ee592943a1": {
          "model_module": "@jupyter-widgets/base",
          "model_name": "LayoutModel",
          "state": {
            "_view_name": "LayoutView",
            "grid_template_rows": null,
            "right": null,
            "justify_content": null,
            "_view_module": "@jupyter-widgets/base",
            "overflow": null,
            "_model_module_version": "1.2.0",
            "_view_count": null,
            "flex_flow": null,
            "width": null,
            "min_width": null,
            "border": null,
            "align_items": null,
            "bottom": null,
            "_model_module": "@jupyter-widgets/base",
            "top": null,
            "grid_column": null,
            "overflow_y": null,
            "overflow_x": null,
            "grid_auto_flow": null,
            "grid_area": null,
            "grid_template_columns": null,
            "flex": null,
            "_model_name": "LayoutModel",
            "justify_items": null,
            "grid_row": null,
            "max_height": null,
            "align_content": null,
            "visibility": null,
            "align_self": null,
            "height": null,
            "min_height": null,
            "padding": null,
            "grid_auto_rows": null,
            "grid_gap": null,
            "max_width": null,
            "order": null,
            "_view_module_version": "1.2.0",
            "grid_template_areas": null,
            "object_position": null,
            "object_fit": null,
            "grid_auto_columns": null,
            "margin": null,
            "display": null,
            "left": null
          }
        },
        "92159aba2be74bc4a469275284f6b761": {
          "model_module": "@jupyter-widgets/controls",
          "model_name": "DescriptionStyleModel",
          "state": {
            "_view_name": "StyleView",
            "_model_name": "DescriptionStyleModel",
            "description_width": "",
            "_view_module": "@jupyter-widgets/base",
            "_model_module_version": "1.5.0",
            "_view_count": null,
            "_view_module_version": "1.2.0",
            "_model_module": "@jupyter-widgets/controls"
          }
        },
        "3a2c833f4b004ee4a7d15861e7568dc1": {
          "model_module": "@jupyter-widgets/base",
          "model_name": "LayoutModel",
          "state": {
            "_view_name": "LayoutView",
            "grid_template_rows": null,
            "right": null,
            "justify_content": null,
            "_view_module": "@jupyter-widgets/base",
            "overflow": null,
            "_model_module_version": "1.2.0",
            "_view_count": null,
            "flex_flow": null,
            "width": null,
            "min_width": null,
            "border": null,
            "align_items": null,
            "bottom": null,
            "_model_module": "@jupyter-widgets/base",
            "top": null,
            "grid_column": null,
            "overflow_y": null,
            "overflow_x": null,
            "grid_auto_flow": null,
            "grid_area": null,
            "grid_template_columns": null,
            "flex": null,
            "_model_name": "LayoutModel",
            "justify_items": null,
            "grid_row": null,
            "max_height": null,
            "align_content": null,
            "visibility": null,
            "align_self": null,
            "height": null,
            "min_height": null,
            "padding": null,
            "grid_auto_rows": null,
            "grid_gap": null,
            "max_width": null,
            "order": null,
            "_view_module_version": "1.2.0",
            "grid_template_areas": null,
            "object_position": null,
            "object_fit": null,
            "grid_auto_columns": null,
            "margin": null,
            "display": null,
            "left": null
          }
        }
      }
    }
  },
  "cells": [
    {
      "cell_type": "code",
      "metadata": {
        "id": "dA8BSsGsUJ8B",
        "colab_type": "code",
        "colab": {
          "base_uri": "https://localhost:8080/",
          "height": 54
        },
        "outputId": "5fef74a5-8a29-4fcf-a795-d74771bf7121"
      },
      "source": [
        "import zipfile\n",
        "from google.colab import drive\n",
        "drive.mount('/content/drive/')"
      ],
      "execution_count": 1,
      "outputs": [
        {
          "output_type": "stream",
          "text": [
            "Drive already mounted at /content/drive/; to attempt to forcibly remount, call drive.mount(\"/content/drive/\", force_remount=True).\n"
          ],
          "name": "stdout"
        }
      ]
    },
    {
      "cell_type": "code",
      "metadata": {
        "id": "TNY5v244X4ie",
        "colab_type": "code",
        "colab": {
          "base_uri": "https://localhost:8080/",
          "height": 356
        },
        "outputId": "58609e58-5838-460c-eb77-fd7673c163b9"
      },
      "source": [
        "!pip install pretrainedmodels"
      ],
      "execution_count": 2,
      "outputs": [
        {
          "output_type": "stream",
          "text": [
            "Collecting pretrainedmodels\n",
            "\u001b[?25l  Downloading https://files.pythonhosted.org/packages/84/0e/be6a0e58447ac16c938799d49bfb5fb7a80ac35e137547fc6cee2c08c4cf/pretrainedmodels-0.7.4.tar.gz (58kB)\n",
            "\r\u001b[K     |█████▋                          | 10kB 24.1MB/s eta 0:00:01\r\u001b[K     |███████████▏                    | 20kB 6.2MB/s eta 0:00:01\r\u001b[K     |████████████████▊               | 30kB 7.4MB/s eta 0:00:01\r\u001b[K     |██████████████████████▎         | 40kB 8.0MB/s eta 0:00:01\r\u001b[K     |███████████████████████████▉    | 51kB 7.1MB/s eta 0:00:01\r\u001b[K     |████████████████████████████████| 61kB 4.7MB/s \n",
            "\u001b[?25hRequirement already satisfied: torch in /usr/local/lib/python3.6/dist-packages (from pretrainedmodels) (1.5.1+cu101)\n",
            "Requirement already satisfied: torchvision in /usr/local/lib/python3.6/dist-packages (from pretrainedmodels) (0.6.1+cu101)\n",
            "Collecting munch\n",
            "  Downloading https://files.pythonhosted.org/packages/cc/ab/85d8da5c9a45e072301beb37ad7f833cd344e04c817d97e0cc75681d248f/munch-2.5.0-py2.py3-none-any.whl\n",
            "Requirement already satisfied: tqdm in /usr/local/lib/python3.6/dist-packages (from pretrainedmodels) (4.41.1)\n",
            "Requirement already satisfied: numpy in /usr/local/lib/python3.6/dist-packages (from torch->pretrainedmodels) (1.18.5)\n",
            "Requirement already satisfied: future in /usr/local/lib/python3.6/dist-packages (from torch->pretrainedmodels) (0.16.0)\n",
            "Requirement already satisfied: pillow>=4.1.1 in /usr/local/lib/python3.6/dist-packages (from torchvision->pretrainedmodels) (7.0.0)\n",
            "Requirement already satisfied: six in /usr/local/lib/python3.6/dist-packages (from munch->pretrainedmodels) (1.12.0)\n",
            "Building wheels for collected packages: pretrainedmodels\n",
            "  Building wheel for pretrainedmodels (setup.py) ... \u001b[?25l\u001b[?25hdone\n",
            "  Created wheel for pretrainedmodels: filename=pretrainedmodels-0.7.4-cp36-none-any.whl size=60962 sha256=7cc0f6248b2ecf4c47eeb1dabc8ab944a54f7b2435877c5951c40efaac713302\n",
            "  Stored in directory: /root/.cache/pip/wheels/69/df/63/62583c096289713f22db605aa2334de5b591d59861a02c2ecd\n",
            "Successfully built pretrainedmodels\n",
            "Installing collected packages: munch, pretrainedmodels\n",
            "Successfully installed munch-2.5.0 pretrainedmodels-0.7.4\n"
          ],
          "name": "stdout"
        }
      ]
    },
    {
      "cell_type": "code",
      "metadata": {
        "id": "7QVZ-1OVX9CB",
        "colab_type": "code",
        "colab": {
          "base_uri": "https://localhost:8080/",
          "height": 742
        },
        "outputId": "f1d93d7f-740a-4b89-eaad-0adb271a91dc"
      },
      "source": [
        "!pip install --user --upgrade efficientnet-pytorch\n",
        "!pip install --user --upgrade albumentations"
      ],
      "execution_count": 3,
      "outputs": [
        {
          "output_type": "stream",
          "text": [
            "Collecting efficientnet-pytorch\n",
            "  Downloading https://files.pythonhosted.org/packages/b8/cb/0309a6e3d404862ae4bc017f89645cf150ac94c14c88ef81d215c8e52925/efficientnet_pytorch-0.6.3.tar.gz\n",
            "Requirement already satisfied, skipping upgrade: torch in /usr/local/lib/python3.6/dist-packages (from efficientnet-pytorch) (1.5.1+cu101)\n",
            "Requirement already satisfied, skipping upgrade: numpy in /usr/local/lib/python3.6/dist-packages (from torch->efficientnet-pytorch) (1.18.5)\n",
            "Requirement already satisfied, skipping upgrade: future in /usr/local/lib/python3.6/dist-packages (from torch->efficientnet-pytorch) (0.16.0)\n",
            "Building wheels for collected packages: efficientnet-pytorch\n",
            "  Building wheel for efficientnet-pytorch (setup.py) ... \u001b[?25l\u001b[?25hdone\n",
            "  Created wheel for efficientnet-pytorch: filename=efficientnet_pytorch-0.6.3-cp36-none-any.whl size=12422 sha256=97410b9665ec31b0458b821e5f52ea5fe1a572ad94b0728f559b0f9820de3648\n",
            "  Stored in directory: /root/.cache/pip/wheels/42/1e/a9/2a578ba9ad04e776e80bf0f70d8a7f4c29ec0718b92d8f6ccd\n",
            "Successfully built efficientnet-pytorch\n",
            "Installing collected packages: efficientnet-pytorch\n",
            "Successfully installed efficientnet-pytorch-0.6.3\n",
            "Collecting albumentations\n",
            "\u001b[?25l  Downloading https://files.pythonhosted.org/packages/92/33/1c459c2c9a4028ec75527eff88bc4e2d256555189f42af4baf4d7bd89233/albumentations-0.4.6.tar.gz (117kB)\n",
            "\u001b[K     |████████████████████████████████| 122kB 8.2MB/s \n",
            "\u001b[?25hRequirement already satisfied, skipping upgrade: numpy>=1.11.1 in /usr/local/lib/python3.6/dist-packages (from albumentations) (1.18.5)\n",
            "Requirement already satisfied, skipping upgrade: scipy in /usr/local/lib/python3.6/dist-packages (from albumentations) (1.4.1)\n",
            "Collecting imgaug>=0.4.0\n",
            "\u001b[?25l  Downloading https://files.pythonhosted.org/packages/66/b1/af3142c4a85cba6da9f4ebb5ff4e21e2616309552caca5e8acefe9840622/imgaug-0.4.0-py2.py3-none-any.whl (948kB)\n",
            "\u001b[K     |████████████████████████████████| 952kB 7.2MB/s \n",
            "\u001b[?25hRequirement already satisfied, skipping upgrade: PyYAML in /usr/local/lib/python3.6/dist-packages (from albumentations) (3.13)\n",
            "Requirement already satisfied, skipping upgrade: opencv-python>=4.1.1 in /usr/local/lib/python3.6/dist-packages (from albumentations) (4.1.2.30)\n",
            "Requirement already satisfied, skipping upgrade: Pillow in /usr/local/lib/python3.6/dist-packages (from imgaug>=0.4.0->albumentations) (7.0.0)\n",
            "Requirement already satisfied, skipping upgrade: six in /usr/local/lib/python3.6/dist-packages (from imgaug>=0.4.0->albumentations) (1.12.0)\n",
            "Requirement already satisfied, skipping upgrade: imageio in /usr/local/lib/python3.6/dist-packages (from imgaug>=0.4.0->albumentations) (2.4.1)\n",
            "Requirement already satisfied, skipping upgrade: Shapely in /usr/local/lib/python3.6/dist-packages (from imgaug>=0.4.0->albumentations) (1.7.0)\n",
            "Requirement already satisfied, skipping upgrade: matplotlib in /usr/local/lib/python3.6/dist-packages (from imgaug>=0.4.0->albumentations) (3.2.2)\n",
            "Requirement already satisfied, skipping upgrade: scikit-image>=0.14.2 in /usr/local/lib/python3.6/dist-packages (from imgaug>=0.4.0->albumentations) (0.16.2)\n",
            "Requirement already satisfied, skipping upgrade: cycler>=0.10 in /usr/local/lib/python3.6/dist-packages (from matplotlib->imgaug>=0.4.0->albumentations) (0.10.0)\n",
            "Requirement already satisfied, skipping upgrade: kiwisolver>=1.0.1 in /usr/local/lib/python3.6/dist-packages (from matplotlib->imgaug>=0.4.0->albumentations) (1.2.0)\n",
            "Requirement already satisfied, skipping upgrade: python-dateutil>=2.1 in /usr/local/lib/python3.6/dist-packages (from matplotlib->imgaug>=0.4.0->albumentations) (2.8.1)\n",
            "Requirement already satisfied, skipping upgrade: pyparsing!=2.0.4,!=2.1.2,!=2.1.6,>=2.0.1 in /usr/local/lib/python3.6/dist-packages (from matplotlib->imgaug>=0.4.0->albumentations) (2.4.7)\n",
            "Requirement already satisfied, skipping upgrade: PyWavelets>=0.4.0 in /usr/local/lib/python3.6/dist-packages (from scikit-image>=0.14.2->imgaug>=0.4.0->albumentations) (1.1.1)\n",
            "Requirement already satisfied, skipping upgrade: networkx>=2.0 in /usr/local/lib/python3.6/dist-packages (from scikit-image>=0.14.2->imgaug>=0.4.0->albumentations) (2.4)\n",
            "Requirement already satisfied, skipping upgrade: decorator>=4.3.0 in /usr/local/lib/python3.6/dist-packages (from networkx>=2.0->scikit-image>=0.14.2->imgaug>=0.4.0->albumentations) (4.4.2)\n",
            "Building wheels for collected packages: albumentations\n",
            "  Building wheel for albumentations (setup.py) ... \u001b[?25l\u001b[?25hdone\n",
            "  Created wheel for albumentations: filename=albumentations-0.4.6-cp36-none-any.whl size=65164 sha256=a523b94644e4e1238e005fa88772facaa2922a89f62f281a8025961dc59e95d2\n",
            "  Stored in directory: /root/.cache/pip/wheels/c7/f4/89/56d1bee5c421c36c1a951eeb4adcc32fbb82f5344c086efa14\n",
            "Successfully built albumentations\n",
            "Installing collected packages: imgaug, albumentations\n",
            "Successfully installed albumentations-0.4.6 imgaug-0.4.0\n"
          ],
          "name": "stdout"
        }
      ]
    },
    {
      "cell_type": "code",
      "metadata": {
        "id": "09LKZ411Ug33",
        "colab_type": "code",
        "colab": {
          "base_uri": "https://localhost:8080/",
          "height": 171
        },
        "outputId": "f8ed07aa-6330-49c8-996b-a0e6c0a35422"
      },
      "source": [
        "!pip install iterative-stratification"
      ],
      "execution_count": 4,
      "outputs": [
        {
          "output_type": "stream",
          "text": [
            "Collecting iterative-stratification\n",
            "  Downloading https://files.pythonhosted.org/packages/9d/79/9ba64c8c07b07b8b45d80725b2ebd7b7884701c1da34f70d4749f7b45f9a/iterative_stratification-0.1.6-py3-none-any.whl\n",
            "Requirement already satisfied: scipy in /usr/local/lib/python3.6/dist-packages (from iterative-stratification) (1.4.1)\n",
            "Requirement already satisfied: scikit-learn in /usr/local/lib/python3.6/dist-packages (from iterative-stratification) (0.22.2.post1)\n",
            "Requirement already satisfied: numpy in /usr/local/lib/python3.6/dist-packages (from iterative-stratification) (1.18.5)\n",
            "Requirement already satisfied: joblib>=0.11 in /usr/local/lib/python3.6/dist-packages (from scikit-learn->iterative-stratification) (0.16.0)\n",
            "Installing collected packages: iterative-stratification\n",
            "Successfully installed iterative-stratification-0.1.6\n"
          ],
          "name": "stdout"
        }
      ]
    },
    {
      "cell_type": "code",
      "metadata": {
        "id": "InP76-KOmKGc",
        "colab_type": "code",
        "colab": {}
      },
      "source": [
        "import pandas as pd\n",
        "import numpy as np\n",
        "import os\n",
        "import joblib\n",
        "import glob\n",
        "from tqdm import tqdm\n",
        "import albumentations\n",
        "import torch\n",
        "import torch.nn as nn\n",
        "from sklearn import metrics\n",
        "import pretrainedmodels\n",
        "from torch.nn import functional as F\n",
        "from PIL import Image\n",
        "from albumentations.core.transforms_interface import ImageOnlyTransform\n",
        "from albumentations.augmentations import functional as F1\n",
        "from PIL import Image, ImageOps, ImageEnhance\n",
        "from sklearn import model_selection\n",
        "from torchvision.transforms import transforms\n",
        "from torch.utils.data import Dataset, DataLoader, random_split \n",
        "from albumentations.core.transforms_interface import DualTransform\n",
        "from efficientnet_pytorch import EfficientNet\n",
        "from sklearn.preprocessing import LabelEncoder\n",
        "from matplotlib import pyplot as plt\n",
        "\n"
      ],
      "execution_count": 2,
      "outputs": []
    },
    {
      "cell_type": "code",
      "metadata": {
        "id": "LplplrZvmM2u",
        "colab_type": "code",
        "colab": {
          "base_uri": "https://localhost:8080/",
          "height": 1000
        },
        "outputId": "3d531beb-bc3f-46e2-ff83-d9fa68405b10"
      },
      "source": [
        "!unzip '/content/drive/My Drive/hackerearth_contest.zip'"
      ],
      "execution_count": 3,
      "outputs": [
        {
          "output_type": "stream",
          "text": [
            "Archive:  /content/drive/My Drive/hackerearth_contest.zip\n",
            "   creating: dataset/\n",
            "   creating: dataset/test/\n",
            "  inflating: dataset/test/508.jpg    \n",
            "  inflating: dataset/test/246.jpg    \n",
            "  inflating: dataset/test/473.jpg    \n",
            "  inflating: dataset/test/485.jpg    \n",
            "  inflating: dataset/test/128.jpg    \n",
            "  inflating: dataset/test/410.jpg    \n",
            "  inflating: dataset/test/465.jpg    \n",
            "  inflating: dataset/test/196.jpg    \n",
            "  inflating: dataset/test/340.jpg    \n",
            "  inflating: dataset/test/467.jpg    \n",
            "  inflating: dataset/test/306.jpg    \n",
            "  inflating: dataset/test/171.jpg    \n",
            "  inflating: dataset/test/323.jpg    \n",
            "  inflating: dataset/test/332.jpg    \n",
            "  inflating: dataset/test/330.jpg    \n",
            "  inflating: dataset/test/170.jpg    \n",
            "  inflating: dataset/test/479.jpg    \n",
            "  inflating: dataset/test/9.jpg      \n",
            "  inflating: dataset/test/283.jpg    \n",
            "  inflating: dataset/test/114.jpg    \n",
            "  inflating: dataset/test/507.jpg    \n",
            "  inflating: dataset/test/183.jpg    \n",
            "  inflating: dataset/test/200.jpg    \n",
            "  inflating: dataset/test/457.jpg    \n",
            "  inflating: dataset/test/264.jpg    \n",
            "  inflating: dataset/test/194.jpg    \n",
            "  inflating: dataset/test/518.jpg    \n",
            "  inflating: dataset/test/175.jpg    \n",
            "  inflating: dataset/test/64.jpg     \n",
            "  inflating: dataset/test/152.jpg    \n",
            "  inflating: dataset/test/270.jpg    \n",
            "  inflating: dataset/test/125.jpg    \n",
            "  inflating: dataset/test/38.jpg     \n",
            "  inflating: dataset/test/440.jpg    \n",
            "  inflating: dataset/test/302.jpg    \n",
            "  inflating: dataset/test/394.jpg    \n",
            "  inflating: dataset/test/448.jpg    \n",
            "  inflating: dataset/test/463.jpg    \n",
            "  inflating: dataset/test/20.jpg     \n",
            "  inflating: dataset/test/301.jpg    \n",
            "  inflating: dataset/test/28.jpg     \n",
            "  inflating: dataset/test/61.jpg     \n",
            "  inflating: dataset/test/398.jpg    \n",
            "  inflating: dataset/test/349.jpg    \n",
            "  inflating: dataset/test/271.jpg    \n",
            "  inflating: dataset/test/286.jpg    \n",
            "  inflating: dataset/test/431.jpg    \n",
            "  inflating: dataset/test/316.jpg    \n",
            "  inflating: dataset/test/224.jpg    \n",
            "  inflating: dataset/test/411.jpg    \n",
            "  inflating: dataset/test/278.jpg    \n",
            "  inflating: dataset/test/456.jpg    \n",
            "  inflating: dataset/test/45.jpg     \n",
            "  inflating: dataset/test/324.jpg    \n",
            "  inflating: dataset/test/6.jpg      \n",
            "  inflating: dataset/test/59.jpg     \n",
            "  inflating: dataset/test/86.jpg     \n",
            "  inflating: dataset/test/470.jpg    \n",
            "  inflating: dataset/test/374.jpg    \n",
            "  inflating: dataset/test/132.jpg    \n",
            "  inflating: dataset/test/216.jpg    \n",
            "  inflating: dataset/test/95.jpg     \n",
            "  inflating: dataset/test/17.jpg     \n",
            "  inflating: dataset/test/162.jpg    \n",
            "  inflating: dataset/test/346.jpg    \n",
            "  inflating: dataset/test/439.jpg    \n",
            "  inflating: dataset/test/232.jpg    \n",
            "  inflating: dataset/test/150.jpg    \n",
            "  inflating: dataset/test/401.jpg    \n",
            "  inflating: dataset/test/145.jpg    \n",
            "  inflating: dataset/test/23.jpg     \n",
            "  inflating: dataset/test/514.jpg    \n",
            "  inflating: dataset/test/193.jpg    \n",
            "  inflating: dataset/test/416.jpg    \n",
            "  inflating: dataset/test/447.jpg    \n",
            "  inflating: dataset/test/220.jpg    \n",
            "  inflating: dataset/test/505.jpg    \n",
            "  inflating: dataset/test/147.jpg    \n",
            "  inflating: dataset/test/210.jpg    \n",
            "  inflating: dataset/test/40.jpg     \n",
            "  inflating: dataset/test/284.jpg    \n",
            "  inflating: dataset/test/55.jpg     \n",
            "  inflating: dataset/test/378.jpg    \n",
            "  inflating: dataset/test/520.jpg    \n",
            "  inflating: dataset/test/484.jpg    \n",
            "  inflating: dataset/test/112.jpg    \n",
            "  inflating: dataset/test/360.jpg    \n",
            "  inflating: dataset/test/317.jpg    \n",
            "  inflating: dataset/test/71.jpg     \n",
            "  inflating: dataset/test/202.jpg    \n",
            "  inflating: dataset/test/92.jpg     \n",
            "  inflating: dataset/test/11.jpg     \n",
            "  inflating: dataset/test/67.jpg     \n",
            "  inflating: dataset/test/138.jpg    \n",
            "  inflating: dataset/test/506.jpg    \n",
            "  inflating: dataset/test/146.jpg    \n",
            "  inflating: dataset/test/318.jpg    \n",
            "  inflating: dataset/test/198.jpg    \n",
            "  inflating: dataset/test/375.jpg    \n",
            "  inflating: dataset/test/41.jpg     \n",
            "  inflating: dataset/test/421.jpg    \n",
            "  inflating: dataset/test/129.jpg    \n",
            "  inflating: dataset/test/14.jpg     \n",
            "  inflating: dataset/test/460.jpg    \n",
            "  inflating: dataset/test/34.jpg     \n",
            "  inflating: dataset/test/380.jpg    \n",
            "  inflating: dataset/test/238.jpg    \n",
            "  inflating: dataset/test/392.jpg    \n",
            "  inflating: dataset/test/80.jpg     \n",
            "  inflating: dataset/test/517.jpg    \n",
            "  inflating: dataset/test/13.jpg     \n",
            "  inflating: dataset/test/189.jpg    \n",
            "  inflating: dataset/test/390.jpg    \n",
            "  inflating: dataset/test/487.jpg    \n",
            "  inflating: dataset/test/438.jpg    \n",
            "  inflating: dataset/test/482.jpg    \n",
            "  inflating: dataset/test/206.jpg    \n",
            "  inflating: dataset/test/217.jpg    \n",
            "  inflating: dataset/test/285.jpg    \n",
            "  inflating: dataset/test/385.jpg    \n",
            "  inflating: dataset/test/495.jpg    \n",
            "  inflating: dataset/test/269.jpg    \n",
            "  inflating: dataset/test/429.jpg    \n",
            "  inflating: dataset/test/291.jpg    \n",
            "  inflating: dataset/test/461.jpg    \n",
            "  inflating: dataset/test/256.jpg    \n",
            "  inflating: dataset/test/48.jpg     \n",
            "  inflating: dataset/test/290.jpg    \n",
            "  inflating: dataset/test/437.jpg    \n",
            "  inflating: dataset/test/498.jpg    \n",
            "  inflating: dataset/test/173.jpg    \n",
            "  inflating: dataset/test/280.jpg    \n",
            "  inflating: dataset/test/119.jpg    \n",
            "  inflating: dataset/test/363.jpg    \n",
            "  inflating: dataset/test/97.jpg     \n",
            "  inflating: dataset/test/414.jpg    \n",
            "  inflating: dataset/test/386.jpg    \n",
            "  inflating: dataset/test/424.jpg    \n",
            "  inflating: dataset/test/157.jpg    \n",
            "  inflating: dataset/test/33.jpg     \n",
            "  inflating: dataset/test/354.jpg    \n",
            "  inflating: dataset/test/57.jpg     \n",
            "  inflating: dataset/test/108.jpg    \n",
            "  inflating: dataset/test/239.jpg    \n",
            "  inflating: dataset/test/441.jpg    \n",
            "  inflating: dataset/test/215.jpg    \n",
            "  inflating: dataset/test/373.jpg    \n",
            "  inflating: dataset/test/292.jpg    \n",
            "  inflating: dataset/test/110.jpg    \n",
            "  inflating: dataset/test/510.jpg    \n",
            "  inflating: dataset/test/275.jpg    \n",
            "  inflating: dataset/test/366.jpg    \n",
            "  inflating: dataset/test/226.jpg    \n",
            "  inflating: dataset/test/35.jpg     \n",
            "  inflating: dataset/test/458.jpg    \n",
            "  inflating: dataset/test/358.jpg    \n",
            "   creating: dataset/train/\n",
            "  inflating: dataset/train/96.jpg    \n",
            "  inflating: dataset/train/163.jpg   \n",
            "  inflating: dataset/train/450.jpg   \n",
            "  inflating: dataset/train/219.jpg   \n",
            "  inflating: dataset/train/455.jpg   \n",
            "  inflating: dataset/train/46.jpg    \n",
            "  inflating: dataset/train/326.jpg   \n",
            "  inflating: dataset/train/408.jpg   \n",
            "  inflating: dataset/train/365.jpg   \n",
            "  inflating: dataset/train/422.jpg   \n",
            "  inflating: dataset/train/397.jpg   \n",
            "  inflating: dataset/train/400.jpg   \n",
            "  inflating: dataset/train/32.jpg    \n",
            "  inflating: dataset/train/350.jpg   \n",
            "  inflating: dataset/train/234.jpg   \n",
            "  inflating: dataset/train/492.jpg   \n",
            "  inflating: dataset/train/333.jpg   \n",
            "  inflating: dataset/train/376.jpg   \n",
            "  inflating: dataset/train/103.jpg   \n",
            "  inflating: dataset/train/39.jpg    \n",
            "  inflating: dataset/train/87.jpg    \n",
            "  inflating: dataset/train/155.jpg   \n",
            "  inflating: dataset/train/388.jpg   \n",
            "  inflating: dataset/train/384.jpg   \n",
            "  inflating: dataset/train/248.jpg   \n",
            "  inflating: dataset/train/494.jpg   \n",
            "  inflating: dataset/train/47.jpg    \n",
            "  inflating: dataset/train/488.jpg   \n",
            "  inflating: dataset/train/462.jpg   \n",
            "  inflating: dataset/train/347.jpg   \n",
            "  inflating: dataset/train/242.jpg   \n",
            "  inflating: dataset/train/16.jpg    \n",
            "  inflating: dataset/train/178.jpg   \n",
            "  inflating: dataset/train/348.jpg   \n",
            "  inflating: dataset/train/164.jpg   \n",
            "  inflating: dataset/train/2.jpg     \n",
            "  inflating: dataset/train/141.jpg   \n",
            "  inflating: dataset/train/187.jpg   \n",
            "  inflating: dataset/train/464.jpg   \n",
            "  inflating: dataset/train/472.jpg   \n",
            "  inflating: dataset/train/489.jpg   \n",
            "  inflating: dataset/train/387.jpg   \n",
            "  inflating: dataset/train/109.jpg   \n",
            "  inflating: dataset/train/255.jpg   \n",
            "  inflating: dataset/train/274.jpg   \n",
            "  inflating: dataset/train/509.jpg   \n",
            "  inflating: dataset/train/19.jpg    \n",
            "  inflating: dataset/train/102.jpg   \n",
            "  inflating: dataset/train/24.jpg    \n",
            "  inflating: dataset/train/294.jpg   \n",
            "  inflating: dataset/train/501.jpg   \n",
            "  inflating: dataset/train/335.jpg   \n",
            "  inflating: dataset/train/321.jpg   \n",
            "  inflating: dataset/train/480.jpg   \n",
            "  inflating: dataset/train/393.jpg   \n",
            "  inflating: dataset/train/344.jpg   \n",
            "  inflating: dataset/train/259.jpg   \n",
            "  inflating: dataset/train/76.jpg    \n",
            "  inflating: dataset/train/343.jpg   \n",
            "  inflating: dataset/train/4.jpg     \n",
            "  inflating: dataset/train/486.jpg   \n",
            "  inflating: dataset/train/361.jpg   \n",
            "  inflating: dataset/train/90.jpg    \n",
            "  inflating: dataset/train/231.jpg   \n",
            "  inflating: dataset/train/331.jpg   \n",
            "  inflating: dataset/train/243.jpg   \n",
            "  inflating: dataset/train/104.jpg   \n",
            "  inflating: dataset/train/113.jpg   \n",
            "  inflating: dataset/train/21.jpg    \n",
            "  inflating: dataset/train/15.jpg    \n",
            "  inflating: dataset/train/370.jpg   \n",
            "  inflating: dataset/train/124.jpg   \n",
            "  inflating: dataset/train/241.jpg   \n",
            "  inflating: dataset/train/56.jpg    \n",
            "  inflating: dataset/train/296.jpg   \n",
            "  inflating: dataset/train/81.jpg    \n",
            "  inflating: dataset/train/29.jpg    \n",
            "  inflating: dataset/train/423.jpg   \n",
            "  inflating: dataset/train/445.jpg   \n",
            "  inflating: dataset/train/406.jpg   \n",
            "  inflating: dataset/train/116.jpg   \n",
            "  inflating: dataset/train/407.jpg   \n",
            "  inflating: dataset/train/118.jpg   \n",
            "  inflating: dataset/train/367.jpg   \n",
            "  inflating: dataset/train/30.jpg    \n",
            "  inflating: dataset/train/395.jpg   \n",
            "  inflating: dataset/train/265.jpg   \n",
            "  inflating: dataset/train/73.jpg    \n",
            "  inflating: dataset/train/277.jpg   \n",
            "  inflating: dataset/train/122.jpg   \n",
            "  inflating: dataset/train/516.jpg   \n",
            "  inflating: dataset/train/377.jpg   \n",
            "  inflating: dataset/train/513.jpg   \n",
            "  inflating: dataset/train/405.jpg   \n",
            "  inflating: dataset/train/172.jpg   \n",
            "  inflating: dataset/train/299.jpg   \n",
            "  inflating: dataset/train/149.jpg   \n",
            "  inflating: dataset/train/165.jpg   \n",
            "  inflating: dataset/train/371.jpg   \n",
            "  inflating: dataset/train/18.jpg    \n",
            "  inflating: dataset/train/213.jpg   \n",
            "  inflating: dataset/train/303.jpg   \n",
            "  inflating: dataset/train/353.jpg   \n",
            "  inflating: dataset/train/135.jpg   \n",
            "  inflating: dataset/train/481.jpg   \n",
            "  inflating: dataset/train/3.jpg     \n",
            "  inflating: dataset/train/329.jpg   \n",
            "  inflating: dataset/train/345.jpg   \n",
            "  inflating: dataset/train/443.jpg   \n",
            "  inflating: dataset/train/504.jpg   \n",
            "  inflating: dataset/train/12.jpg    \n",
            "  inflating: dataset/train/74.jpg    \n",
            "  inflating: dataset/train/185.jpg   \n",
            "  inflating: dataset/train/161.jpg   \n",
            "  inflating: dataset/train/309.jpg   \n",
            "  inflating: dataset/train/205.jpg   \n",
            "  inflating: dataset/train/379.jpg   \n",
            "  inflating: dataset/train/82.jpg    \n",
            "  inflating: dataset/train/276.jpg   \n",
            "  inflating: dataset/train/154.jpg   \n",
            "  inflating: dataset/train/254.jpg   \n",
            "  inflating: dataset/train/26.jpg    \n",
            "  inflating: dataset/train/181.jpg   \n",
            "  inflating: dataset/train/425.jpg   \n",
            "  inflating: dataset/train/131.jpg   \n",
            "  inflating: dataset/train/272.jpg   \n",
            "  inflating: dataset/train/117.jpg   \n",
            "  inflating: dataset/train/252.jpg   \n",
            "  inflating: dataset/train/180.jpg   \n",
            "  inflating: dataset/train/142.jpg   \n",
            "  inflating: dataset/train/261.jpg   \n",
            "  inflating: dataset/train/136.jpg   \n",
            "  inflating: dataset/train/85.jpg    \n",
            "  inflating: dataset/train/88.jpg    \n",
            "  inflating: dataset/train/372.jpg   \n",
            "  inflating: dataset/train/279.jpg   \n",
            "  inflating: dataset/train/313.jpg   \n",
            "  inflating: dataset/train/159.jpg   \n",
            "  inflating: dataset/train/483.jpg   \n",
            "  inflating: dataset/train/262.jpg   \n",
            "  inflating: dataset/train/519.jpg   \n",
            "  inflating: dataset/train/308.jpg   \n",
            "  inflating: dataset/train/211.jpg   \n",
            "  inflating: dataset/train/497.jpg   \n",
            "  inflating: dataset/train/325.jpg   \n",
            "  inflating: dataset/train/169.jpg   \n",
            "  inflating: dataset/train/244.jpg   \n",
            "  inflating: dataset/train/474.jpg   \n",
            "  inflating: dataset/train/322.jpg   \n",
            "  inflating: dataset/train/94.jpg    \n",
            "  inflating: dataset/train/314.jpg   \n",
            "  inflating: dataset/train/356.jpg   \n",
            "  inflating: dataset/train/22.jpg    \n",
            "  inflating: dataset/train/512.jpg   \n",
            "  inflating: dataset/train/182.jpg   \n",
            "  inflating: dataset/train/156.jpg   \n",
            "  inflating: dataset/train/289.jpg   \n",
            "  inflating: dataset/train/25.jpg    \n",
            "  inflating: dataset/train/436.jpg   \n",
            "  inflating: dataset/train/93.jpg    \n",
            "  inflating: dataset/train/336.jpg   \n",
            "  inflating: dataset/train/225.jpg   \n",
            "  inflating: dataset/train/298.jpg   \n",
            "  inflating: dataset/train/214.jpg   \n",
            "  inflating: dataset/train/27.jpg    \n",
            "  inflating: dataset/train/342.jpg   \n",
            "  inflating: dataset/train/273.jpg   \n",
            "  inflating: dataset/train/133.jpg   \n",
            "  inflating: dataset/train/168.jpg   \n",
            "  inflating: dataset/train/409.jpg   \n",
            "  inflating: dataset/train/459.jpg   \n",
            "  inflating: dataset/train/31.jpg    \n",
            "  inflating: dataset/train/468.jpg   \n",
            "  inflating: dataset/train/434.jpg   \n",
            "  inflating: dataset/train/312.jpg   \n",
            "  inflating: dataset/train/383.jpg   \n",
            "  inflating: dataset/train/476.jpg   \n",
            "  inflating: dataset/train/334.jpg   \n",
            "  inflating: dataset/train/151.jpg   \n",
            "  inflating: dataset/train/166.jpg   \n",
            "  inflating: dataset/train/227.jpg   \n",
            "  inflating: dataset/train/471.jpg   \n",
            "  inflating: dataset/train/267.jpg   \n",
            "  inflating: dataset/train/100.jpg   \n",
            "  inflating: dataset/train/446.jpg   \n",
            "  inflating: dataset/train/208.jpg   \n",
            "  inflating: dataset/train/293.jpg   \n",
            "  inflating: dataset/train/297.jpg   \n",
            "  inflating: dataset/train/412.jpg   \n",
            "  inflating: dataset/train/58.jpg    \n",
            "  inflating: dataset/train/288.jpg   \n",
            "  inflating: dataset/train/105.jpg   \n",
            "  inflating: dataset/train/477.jpg   \n",
            "  inflating: dataset/train/502.jpg   \n",
            "  inflating: dataset/train/418.jpg   \n",
            "  inflating: dataset/train/233.jpg   \n",
            "  inflating: dataset/train/134.jpg   \n",
            "  inflating: dataset/train/197.jpg   \n",
            "  inflating: dataset/train/245.jpg   \n",
            "  inflating: dataset/train/176.jpg   \n",
            "  inflating: dataset/train/203.jpg   \n",
            "  inflating: dataset/train/247.jpg   \n",
            "  inflating: dataset/train/493.jpg   \n",
            "  inflating: dataset/train/68.jpg    \n",
            "  inflating: dataset/train/442.jpg   \n",
            "  inflating: dataset/train/115.jpg   \n",
            "  inflating: dataset/train/357.jpg   \n",
            "  inflating: dataset/train/389.jpg   \n",
            "  inflating: dataset/train/218.jpg   \n",
            "  inflating: dataset/train/263.jpg   \n",
            "  inflating: dataset/train/184.jpg   \n",
            "  inflating: dataset/train/315.jpg   \n",
            "  inflating: dataset/train/295.jpg   \n",
            "  inflating: dataset/train/42.jpg    \n",
            "  inflating: dataset/train/427.jpg   \n",
            "  inflating: dataset/train/287.jpg   \n",
            "  inflating: dataset/train/430.jpg   \n",
            "  inflating: dataset/train/359.jpg   \n",
            "  inflating: dataset/train/249.jpg   \n",
            "  inflating: dataset/train/54.jpg    \n",
            "  inflating: dataset/train/305.jpg   \n",
            "  inflating: dataset/train/319.jpg   \n",
            "  inflating: dataset/train/496.jpg   \n",
            "  inflating: dataset/train/60.jpg    \n",
            "  inflating: dataset/train/37.jpg    \n",
            "  inflating: dataset/train/192.jpg   \n",
            "  inflating: dataset/train/304.jpg   \n",
            "  inflating: dataset/train/258.jpg   \n",
            "  inflating: dataset/train/364.jpg   \n",
            "  inflating: dataset/train/49.jpg    \n",
            "  inflating: dataset/train/144.jpg   \n",
            "  inflating: dataset/train/7.jpg     \n",
            "  inflating: dataset/train/98.jpg    \n",
            "  inflating: dataset/train/223.jpg   \n",
            "  inflating: dataset/train/320.jpg   \n",
            "  inflating: dataset/train/70.jpg    \n",
            "  inflating: dataset/train/426.jpg   \n",
            "  inflating: dataset/train/84.jpg    \n",
            "  inflating: dataset/train/44.jpg    \n",
            "  inflating: dataset/train/177.jpg   \n",
            "  inflating: dataset/train/50.jpg    \n",
            "  inflating: dataset/train/417.jpg   \n",
            "  inflating: dataset/train/191.jpg   \n",
            "  inflating: dataset/train/221.jpg   \n",
            "  inflating: dataset/train/500.jpg   \n",
            "  inflating: dataset/train/428.jpg   \n",
            "  inflating: dataset/train/137.jpg   \n",
            "  inflating: dataset/train/195.jpg   \n",
            "  inflating: dataset/train/413.jpg   \n",
            "  inflating: dataset/train/228.jpg   \n",
            "  inflating: dataset/train/478.jpg   \n",
            "  inflating: dataset/train/123.jpg   \n",
            "  inflating: dataset/train/369.jpg   \n",
            "  inflating: dataset/train/328.jpg   \n",
            "  inflating: dataset/train/1.jpg     \n",
            "  inflating: dataset/train/126.jpg   \n",
            "  inflating: dataset/train/503.jpg   \n",
            "  inflating: dataset/train/352.jpg   \n",
            "  inflating: dataset/train/120.jpg   \n",
            "  inflating: dataset/train/452.jpg   \n",
            "  inflating: dataset/train/339.jpg   \n",
            "  inflating: dataset/train/266.jpg   \n",
            "  inflating: dataset/train/201.jpg   \n",
            "  inflating: dataset/train/229.jpg   \n",
            "  inflating: dataset/train/402.jpg   \n",
            "  inflating: dataset/train/381.jpg   \n",
            "  inflating: dataset/train/449.jpg   \n",
            "  inflating: dataset/train/107.jpg   \n",
            "  inflating: dataset/train/444.jpg   \n",
            "  inflating: dataset/train/327.jpg   \n",
            "  inflating: dataset/train/8.jpg     \n",
            "  inflating: dataset/train/451.jpg   \n",
            "  inflating: dataset/train/77.jpg    \n",
            "  inflating: dataset/train/148.jpg   \n",
            "  inflating: dataset/train/399.jpg   \n",
            "  inflating: dataset/train/130.jpg   \n",
            "  inflating: dataset/train/362.jpg   \n",
            "  inflating: dataset/train/310.jpg   \n",
            "  inflating: dataset/train/79.jpg    \n",
            "  inflating: dataset/train/127.jpg   \n",
            "  inflating: dataset/train/237.jpg   \n",
            "  inflating: dataset/train/257.jpg   \n",
            "  inflating: dataset/train/160.jpg   \n",
            "  inflating: dataset/train/52.jpg    \n",
            "  inflating: dataset/train/190.jpg   \n",
            "  inflating: dataset/train/382.jpg   \n",
            "  inflating: dataset/train/143.jpg   \n",
            "  inflating: dataset/train/199.jpg   \n",
            "  inflating: dataset/train/282.jpg   \n",
            "  inflating: dataset/train/207.jpg   \n",
            "  inflating: dataset/train/403.jpg   \n",
            "  inflating: dataset/train/337.jpg   \n",
            "  inflating: dataset/train/355.jpg   \n",
            "  inflating: dataset/train/251.jpg   \n",
            "  inflating: dataset/train/188.jpg   \n",
            "  inflating: dataset/train/338.jpg   \n",
            "  inflating: dataset/train/341.jpg   \n",
            "  inflating: dataset/train/433.jpg   \n",
            "  inflating: dataset/train/69.jpg    \n",
            "  inflating: dataset/train/236.jpg   \n",
            "  inflating: dataset/train/106.jpg   \n",
            "  inflating: dataset/train/99.jpg    \n",
            "  inflating: dataset/train/179.jpg   \n",
            "  inflating: dataset/train/204.jpg   \n",
            "  inflating: dataset/train/300.jpg   \n",
            "  inflating: dataset/train/432.jpg   \n",
            "  inflating: dataset/train/490.jpg   \n",
            "  inflating: dataset/train/368.jpg   \n",
            "  inflating: dataset/train/153.jpg   \n",
            "  inflating: dataset/train/174.jpg   \n",
            "  inflating: dataset/train/51.jpg    \n",
            "  inflating: dataset/train/62.jpg    \n",
            "  inflating: dataset/train/420.jpg   \n",
            "  inflating: dataset/train/75.jpg    \n",
            "  inflating: dataset/train/230.jpg   \n",
            "  inflating: dataset/train/307.jpg   \n",
            "  inflating: dataset/train/212.jpg   \n",
            "  inflating: dataset/train/209.jpg   \n",
            "  inflating: dataset/train/415.jpg   \n",
            "  inflating: dataset/train/491.jpg   \n",
            "  inflating: dataset/train/453.jpg   \n",
            "  inflating: dataset/train/351.jpg   \n",
            "  inflating: dataset/train/111.jpg   \n",
            "  inflating: dataset/train/391.jpg   \n",
            "  inflating: dataset/train/515.jpg   \n",
            "  inflating: dataset/train/65.jpg    \n",
            "  inflating: dataset/train/240.jpg   \n",
            "  inflating: dataset/train/91.jpg    \n",
            "  inflating: dataset/train/222.jpg   \n",
            "  inflating: dataset/train/53.jpg    \n",
            "  inflating: dataset/train/158.jpg   \n",
            "  inflating: dataset/train/475.jpg   \n",
            "  inflating: dataset/train/121.jpg   \n",
            "  inflating: dataset/train/396.jpg   \n",
            "  inflating: dataset/train/63.jpg    \n",
            "  inflating: dataset/train/268.jpg   \n",
            "  inflating: dataset/train/78.jpg    \n",
            "  inflating: dataset/train/167.jpg   \n",
            "  inflating: dataset/train/250.jpg   \n",
            "  inflating: dataset/train/454.jpg   \n",
            "  inflating: dataset/train/186.jpg   \n",
            "  inflating: dataset/train/499.jpg   \n",
            "  inflating: dataset/train/101.jpg   \n",
            "  inflating: dataset/train/435.jpg   \n",
            "  inflating: dataset/train/469.jpg   \n",
            "  inflating: dataset/train/139.jpg   \n",
            "  inflating: dataset/train/83.jpg    \n",
            "  inflating: dataset/train/43.jpg    \n",
            "  inflating: dataset/train/281.jpg   \n",
            "  inflating: dataset/train/36.jpg    \n",
            "  inflating: dataset/train/419.jpg   \n",
            "  inflating: dataset/train/66.jpg    \n",
            "  inflating: dataset/train/260.jpg   \n",
            "  inflating: dataset/train/466.jpg   \n",
            "  inflating: dataset/train/140.jpg   \n",
            "  inflating: dataset/train/5.jpg     \n",
            "  inflating: dataset/train/10.jpg    \n",
            "  inflating: dataset/train/235.jpg   \n",
            "  inflating: dataset/train/511.jpg   \n",
            "  inflating: dataset/train/72.jpg    \n",
            "  inflating: dataset/train/253.jpg   \n",
            "  inflating: dataset/train/404.jpg   \n",
            "  inflating: dataset/train/89.jpg    \n",
            "  inflating: dataset/train/311.jpg   \n",
            "  inflating: dataset/test.csv        \n",
            "  inflating: dataset/train.csv       \n"
          ],
          "name": "stdout"
        }
      ]
    },
    {
      "cell_type": "code",
      "metadata": {
        "id": "VzzVh1KGW6-p",
        "colab_type": "code",
        "colab": {}
      },
      "source": [
        "# ls 'dataset/train/'"
      ],
      "execution_count": null,
      "outputs": []
    },
    {
      "cell_type": "code",
      "metadata": {
        "id": "xzE5-TWtWS_f",
        "colab_type": "code",
        "colab": {}
      },
      "source": [
        "train_df = pd.read_csv('dataset/train.csv')\n",
        "test_df = pd.read_csv('dataset/test.csv')"
      ],
      "execution_count": 4,
      "outputs": []
    },
    {
      "cell_type": "code",
      "metadata": {
        "id": "B1OiXBjfWXfE",
        "colab_type": "code",
        "colab": {
          "base_uri": "https://localhost:8080/",
          "height": 195
        },
        "outputId": "83b3878d-980f-463e-ce2b-75d2840bc9f8"
      },
      "source": [
        "train_df.head()"
      ],
      "execution_count": 5,
      "outputs": [
        {
          "output_type": "execute_result",
          "data": {
            "text/html": [
              "<div>\n",
              "<style scoped>\n",
              "    .dataframe tbody tr th:only-of-type {\n",
              "        vertical-align: middle;\n",
              "    }\n",
              "\n",
              "    .dataframe tbody tr th {\n",
              "        vertical-align: top;\n",
              "    }\n",
              "\n",
              "    .dataframe thead th {\n",
              "        text-align: right;\n",
              "    }\n",
              "</style>\n",
              "<table border=\"1\" class=\"dataframe\">\n",
              "  <thead>\n",
              "    <tr style=\"text-align: right;\">\n",
              "      <th></th>\n",
              "      <th>Image</th>\n",
              "      <th>target</th>\n",
              "    </tr>\n",
              "  </thead>\n",
              "  <tbody>\n",
              "    <tr>\n",
              "      <th>0</th>\n",
              "      <td>96.jpg</td>\n",
              "      <td>manipuri</td>\n",
              "    </tr>\n",
              "    <tr>\n",
              "      <th>1</th>\n",
              "      <td>163.jpg</td>\n",
              "      <td>bharatanatyam</td>\n",
              "    </tr>\n",
              "    <tr>\n",
              "      <th>2</th>\n",
              "      <td>450.jpg</td>\n",
              "      <td>odissi</td>\n",
              "    </tr>\n",
              "    <tr>\n",
              "      <th>3</th>\n",
              "      <td>219.jpg</td>\n",
              "      <td>kathakali</td>\n",
              "    </tr>\n",
              "    <tr>\n",
              "      <th>4</th>\n",
              "      <td>455.jpg</td>\n",
              "      <td>odissi</td>\n",
              "    </tr>\n",
              "  </tbody>\n",
              "</table>\n",
              "</div>"
            ],
            "text/plain": [
              "     Image         target\n",
              "0   96.jpg       manipuri\n",
              "1  163.jpg  bharatanatyam\n",
              "2  450.jpg         odissi\n",
              "3  219.jpg      kathakali\n",
              "4  455.jpg         odissi"
            ]
          },
          "metadata": {
            "tags": []
          },
          "execution_count": 5
        }
      ]
    },
    {
      "cell_type": "code",
      "metadata": {
        "id": "Er-DARNfbcrL",
        "colab_type": "code",
        "colab": {
          "base_uri": "https://localhost:8080/",
          "height": 50
        },
        "outputId": "45220188-20b1-4c27-cde8-82172dfb1057"
      },
      "source": [
        "train_df['target'].unique()"
      ],
      "execution_count": 6,
      "outputs": [
        {
          "output_type": "execute_result",
          "data": {
            "text/plain": [
              "array(['manipuri', 'bharatanatyam', 'odissi', 'kathakali', 'kathak',\n",
              "       'sattriya', 'kuchipudi', 'mohiniyattam'], dtype=object)"
            ]
          },
          "metadata": {
            "tags": []
          },
          "execution_count": 6
        }
      ]
    },
    {
      "cell_type": "code",
      "metadata": {
        "id": "peCvDj0QeJb6",
        "colab_type": "code",
        "colab": {}
      },
      "source": [
        "labelencoder = LabelEncoder()\n",
        "train_df['target_id'] = labelencoder.fit_transform(train_df['target'])"
      ],
      "execution_count": 7,
      "outputs": []
    },
    {
      "cell_type": "code",
      "metadata": {
        "id": "afXc1M9rXFqW",
        "colab_type": "code",
        "colab": {
          "base_uri": "https://localhost:8080/",
          "height": 195
        },
        "outputId": "6e5274bb-1d31-4687-8b4e-9d548352609d"
      },
      "source": [
        "train_df.head()"
      ],
      "execution_count": 8,
      "outputs": [
        {
          "output_type": "execute_result",
          "data": {
            "text/html": [
              "<div>\n",
              "<style scoped>\n",
              "    .dataframe tbody tr th:only-of-type {\n",
              "        vertical-align: middle;\n",
              "    }\n",
              "\n",
              "    .dataframe tbody tr th {\n",
              "        vertical-align: top;\n",
              "    }\n",
              "\n",
              "    .dataframe thead th {\n",
              "        text-align: right;\n",
              "    }\n",
              "</style>\n",
              "<table border=\"1\" class=\"dataframe\">\n",
              "  <thead>\n",
              "    <tr style=\"text-align: right;\">\n",
              "      <th></th>\n",
              "      <th>Image</th>\n",
              "      <th>target</th>\n",
              "      <th>target_id</th>\n",
              "    </tr>\n",
              "  </thead>\n",
              "  <tbody>\n",
              "    <tr>\n",
              "      <th>0</th>\n",
              "      <td>96.jpg</td>\n",
              "      <td>manipuri</td>\n",
              "      <td>4</td>\n",
              "    </tr>\n",
              "    <tr>\n",
              "      <th>1</th>\n",
              "      <td>163.jpg</td>\n",
              "      <td>bharatanatyam</td>\n",
              "      <td>0</td>\n",
              "    </tr>\n",
              "    <tr>\n",
              "      <th>2</th>\n",
              "      <td>450.jpg</td>\n",
              "      <td>odissi</td>\n",
              "      <td>6</td>\n",
              "    </tr>\n",
              "    <tr>\n",
              "      <th>3</th>\n",
              "      <td>219.jpg</td>\n",
              "      <td>kathakali</td>\n",
              "      <td>2</td>\n",
              "    </tr>\n",
              "    <tr>\n",
              "      <th>4</th>\n",
              "      <td>455.jpg</td>\n",
              "      <td>odissi</td>\n",
              "      <td>6</td>\n",
              "    </tr>\n",
              "  </tbody>\n",
              "</table>\n",
              "</div>"
            ],
            "text/plain": [
              "     Image         target  target_id\n",
              "0   96.jpg       manipuri          4\n",
              "1  163.jpg  bharatanatyam          0\n",
              "2  450.jpg         odissi          6\n",
              "3  219.jpg      kathakali          2\n",
              "4  455.jpg         odissi          6"
            ]
          },
          "metadata": {
            "tags": []
          },
          "execution_count": 8
        }
      ]
    },
    {
      "cell_type": "code",
      "metadata": {
        "id": "g525wG0hmHDQ",
        "colab_type": "code",
        "colab": {}
      },
      "source": [
        "original_values = dict()\n",
        "for item, row in train_df.iterrows():\n",
        "  original_values[row['target_id']]=row['target']"
      ],
      "execution_count": 58,
      "outputs": []
    },
    {
      "cell_type": "code",
      "metadata": {
        "id": "OboBUv6BV-Tm",
        "colab_type": "code",
        "colab": {}
      },
      "source": [
        "train_df[\"kfold\"] = -1\n",
        "train_df = train_df.sample(frac=1).reset_index(drop=True)\n",
        "y = train_df.target.values\n",
        "kf = model_selection.StratifiedKFold(n_splits=5)\n",
        "for f, (t_, v_) in enumerate(kf.split(X=train_df, y=y)):\n",
        "    train_df.loc[v_, 'kfold'] = f\n",
        "\n",
        "train_df.to_csv(\"train_folds.csv\", index=False)"
      ],
      "execution_count": 10,
      "outputs": []
    },
    {
      "cell_type": "code",
      "metadata": {
        "id": "pciu2mFsm5o8",
        "colab_type": "code",
        "colab": {}
      },
      "source": [
        "class IndianDanceFormsDataset(Dataset):\n",
        "  def __init__(self, train_df, train_dir, transform=None):\n",
        "    self.train_df = train_df\n",
        "    self.train_dir = train_dir\n",
        "    self.transform = transform\n",
        "  \n",
        "  def __len__(self):\n",
        "    return len(self.train_df)\n",
        "  \n",
        "  def __getitem__(self,idx):\n",
        "    row = self.train_df.loc[idx]\n",
        "    img_id, label = row['Image'], row['target_id']\n",
        "    img = Image.open(os.path.join(self.train_dir, img_id))\n",
        "    if self.transform:\n",
        "      img = self.transform(img)\n",
        "    return {\n",
        "            'image': img,\n",
        "            'target': label\n",
        "            } "
      ],
      "execution_count": 11,
      "outputs": []
    },
    {
      "cell_type": "code",
      "metadata": {
        "id": "1c0rTSt1Xr-X",
        "colab_type": "code",
        "colab": {}
      },
      "source": [
        "class EfficientNetB7(nn.Module):\n",
        "    def __init__(self, pretrained):\n",
        "        super(EfficientNetB7, self).__init__()\n",
        "        self.base_model = EfficientNet.from_pretrained(\"efficientnet-b7\")        \n",
        "        self.l0 = nn.Linear(2560, 8)\n",
        "\n",
        "    def forward(self, image):\n",
        "        batch_size, _, _, _ = image.shape\n",
        "        x = self.base_model.extract_features(image)\n",
        "        x = F.adaptive_avg_pool2d(x,1).reshape(batch_size,-1)\n",
        "        out = (self.l0(x))\n",
        "        return out"
      ],
      "execution_count": 12,
      "outputs": []
    },
    {
      "cell_type": "code",
      "metadata": {
        "id": "0LUWsHF3ARk0",
        "colab_type": "code",
        "colab": {}
      },
      "source": [
        "class EarlyStopping:\n",
        "    \"\"\"Early stops the training if validation loss doesn't improve after a given patience.\"\"\"\n",
        "    def __init__(self, patience=7, verbose=False, delta=0):\n",
        "        \"\"\"\n",
        "        Args:\n",
        "            patience (int): How long to wait after last time validation loss improved.\n",
        "                            Default: 7\n",
        "            verbose (bool): If True, prints a message for each validation loss improvement. \n",
        "                            Default: False\n",
        "            delta (float): Minimum change in the monitored quantity to qualify as an improvement.\n",
        "                            Default: 0\n",
        "        \"\"\"\n",
        "        self.patience = patience\n",
        "        self.verbose = verbose\n",
        "        self.counter = 0\n",
        "        self.best_score = None\n",
        "        self.early_stop = False\n",
        "        self.val_loss_min = np.Inf\n",
        "        self.delta = delta\n",
        "\n",
        "    def __call__(self, val_loss, model):\n",
        "\n",
        "        score = -val_loss\n",
        "\n",
        "        if self.best_score is None:\n",
        "            self.best_score = score\n",
        "            self.save_checkpoint(val_loss, model)\n",
        "        elif score < self.best_score + self.delta:\n",
        "            self.counter += 1\n",
        "            print(f'EarlyStopping counter: {self.counter} out of {self.patience}')\n",
        "            if self.counter >= self.patience:\n",
        "                self.early_stop = True\n",
        "        else:\n",
        "            self.best_score = score\n",
        "            self.save_checkpoint(val_loss, model)\n",
        "            self.counter = 0\n",
        "\n",
        "    def save_checkpoint(self, val_loss, model):\n",
        "        '''Saves model when validation loss decrease.'''\n",
        "        if self.verbose:\n",
        "            print(f'Validation loss decreased ({self.val_loss_min:.6f} --> {val_loss:.6f}).  Saving model ...')\n",
        "        torch.save(model.state_dict(), 'checkpoint.pt')\n",
        "        self.val_loss_min = val_loss\n"
      ],
      "execution_count": 13,
      "outputs": []
    },
    {
      "cell_type": "code",
      "metadata": {
        "id": "vooENPA-t-ft",
        "colab_type": "code",
        "colab": {}
      },
      "source": [
        "DEVICE = torch.device('cuda:0' if torch.cuda.is_available() else 'cpu')\n",
        "EPOCHS = 10\n",
        "TRAIN_BATCH_SIZE = 16\n",
        "TEST_BATCH_SIZE = 16\n",
        "TRAIN_DIR = 'dataset/train'\n",
        "TEST_DIR = 'dataset/test'"
      ],
      "execution_count": 37,
      "outputs": []
    },
    {
      "cell_type": "code",
      "metadata": {
        "id": "7zQslPc3wMps",
        "colab_type": "code",
        "colab": {}
      },
      "source": [
        "def loss_fn(outputs, targets):\n",
        "  return nn.CrossEntropyLoss()(outputs, targets)"
      ],
      "execution_count": 15,
      "outputs": []
    },
    {
      "cell_type": "code",
      "metadata": {
        "id": "9v0QgA2BzQ4k",
        "colab_type": "code",
        "colab": {}
      },
      "source": [
        "def get_accuracy(logits, labels):\n",
        "  predictions = np.argmax(F.softmax(logits,dim=1).cpu().data.numpy(),axis=1)\n",
        "  label = labels.cpu()\n",
        "  total_num = 0\n",
        "  sum_correct = 0\n",
        "  for i in range(len(labels)):\n",
        "    if labels[i]>=0:\n",
        "      total_num+=1\n",
        "      if predictions[i] == labels[i]:\n",
        "        sum_correct += 1\n",
        "  if total_num==0:\n",
        "    total_num = 1e-7\n",
        "  return np.float32(sum_correct)/total_num"
      ],
      "execution_count": 16,
      "outputs": []
    },
    {
      "cell_type": "code",
      "metadata": {
        "id": "hVyGMPTYw5ZQ",
        "colab_type": "code",
        "colab": {}
      },
      "source": [
        "def train(dataset, data_loader, model, optimizer):\n",
        "  model.train()\n",
        "  final_loss = 0\n",
        "  counter = 0\n",
        "  final_accuracy = 0\n",
        "  for bi, d in tqdm(enumerate(data_loader),total=int(len(dataset)/data_loader.batch_size)):\n",
        "    counter = counter + 1\n",
        "    image = d[\"image\"]\n",
        "    target = d[\"target\"]\n",
        "    image = image.to(DEVICE, dtype = torch.float)\n",
        "    targets = target.to(DEVICE, dtype = torch.long)\n",
        "    optimizer.zero_grad()\n",
        "    outputs = model(image)\n",
        "    loss = loss_fn(outputs, targets)\n",
        "    loss.backward()\n",
        "    optimizer.step()\n",
        "    final_loss += loss\n",
        "    acc = get_accuracy(outputs, targets)\n",
        "    final_accuracy += acc\n",
        "  print(\"=================TRAIN==================\")\n",
        "  print(f\"accuracy = {final_accuracy/counter},  loss = {final_loss/counter}\")\n",
        "  return final_loss/counter , final_accuracy/counter"
      ],
      "execution_count": 17,
      "outputs": []
    },
    {
      "cell_type": "code",
      "metadata": {
        "id": "P5oQOBT32sCR",
        "colab_type": "code",
        "colab": {}
      },
      "source": [
        "def evaluate(dataset, data_loader, model):\n",
        "  with torch.no_grad():\n",
        "    model.eval()\n",
        "    final_loss = 0\n",
        "    counter = 0\n",
        "    final_accuracy = 0\n",
        "    for bi, d in tqdm(enumerate(data_loader), total = int(len(dataset)/data_loader.batch_size)):\n",
        "      counter += 1\n",
        "      image = d[\"image\"]\n",
        "      targets = d[\"target\"]\n",
        "      image = image.to(DEVICE, dtype = torch.float)\n",
        "      targets = targets.to(DEVICE, dtype = torch.long)\n",
        "      outputs = model(image)\n",
        "      loss = loss_fn(outputs, targets)\n",
        "      final_loss += loss\n",
        "      acc = get_accuracy(outputs, targets)\n",
        "      final_accuracy += acc\n",
        "  print(\"=================VALID==================\")\n",
        "  print(f\"accuracy = {final_accuracy/counter},  loss = {final_loss/counter}\")\n",
        "  return final_loss/counter, final_accuracy/counter\n"
      ],
      "execution_count": 18,
      "outputs": []
    },
    {
      "cell_type": "code",
      "metadata": {
        "id": "fQnSiRiN52zW",
        "colab_type": "code",
        "colab": {}
      },
      "source": [
        "# transforms\n",
        "padding = (10, 15, 20, 30)\n",
        "train_transform = transforms.Compose([\n",
        "                                transforms.RandomResizedCrop(size=256, scale=(0.8, 1.0)),\n",
        "                                transforms.RandomHorizontalFlip(),\n",
        "                                transforms.RandomRotation(degrees=(-10,+10)),\n",
        "                                transforms.RandomAffine(0, translate=None, scale=(0.9, 1.1), shear=1, resample=False, fillcolor=0),\n",
        "                                transforms.Pad(padding, fill=0, padding_mode='reflect'),\n",
        "                                transforms.Resize(size=(224, 224)),\n",
        "#                                 transforms.CenterCrop(224),\n",
        "                                transforms.ToTensor(),\n",
        "                                transforms.Normalize([0.485, 0.456, 0.406], [0.229, 0.224, 0.225])\n",
        "                                ])\n",
        "valid_transform = transforms.Compose([\n",
        "                                transforms.Resize(size=(224, 224)),\n",
        "#                                 transforms.CenterCrop(224),\n",
        "                                transforms.ToTensor(),\n",
        "                                transforms.Normalize([0.485, 0.456, 0.406], [0.229, 0.224, 0.225])\n",
        "                                ])"
      ],
      "execution_count": 19,
      "outputs": []
    },
    {
      "cell_type": "code",
      "metadata": {
        "id": "K8xXtPN042zS",
        "colab_type": "code",
        "colab": {}
      },
      "source": [
        "def main(fold,df):\n",
        "  df_train = df[df.kfold != fold].reset_index(drop=True)\n",
        "  df_valid = df[df.kfold == fold].reset_index(drop=True)\n",
        "  model = EfficientNetB7(pretrained=True)\n",
        "  model.to(DEVICE)\n",
        "  train_dataset = IndianDanceFormsDataset(\n",
        "      train_df = df_train,\n",
        "      train_dir = TRAIN_DIR,\n",
        "      transform = train_transform\n",
        "  )\n",
        "  train_loader = torch.utils.data.DataLoader(\n",
        "        dataset=train_dataset,\n",
        "        batch_size= TRAIN_BATCH_SIZE,\n",
        "        shuffle=True,\n",
        "        num_workers=4\n",
        "    )\n",
        "  valid_dataset = IndianDanceFormsDataset(\n",
        "      train_df = df_valid,\n",
        "      train_dir = TRAIN_DIR,\n",
        "      transform = valid_transform\n",
        "  )\n",
        "  valid_loader = torch.utils.data.DataLoader(\n",
        "        dataset=valid_dataset,\n",
        "        batch_size= TEST_BATCH_SIZE,\n",
        "        shuffle=False,\n",
        "        num_workers=4\n",
        "  )\n",
        "  optimizer = torch.optim.Adam(model.parameters(), lr=1e-4)\n",
        "  scheduler = torch.optim.lr_scheduler.ReduceLROnPlateau(optimizer, \n",
        "                                                            mode=\"min\", \n",
        "                                                            patience=5, \n",
        "                                                            factor=0.3,verbose=True)\n",
        "  early_stopping = EarlyStopping(patience=5, verbose=True)\n",
        "  if torch.cuda.device_count() > 1:\n",
        "        model = nn.DataParallel(model)\n",
        "  best_acc = -1\n",
        "  print(\"FOLD : \", fold)\n",
        "  val_scores = []\n",
        "  for epoch in range(1, EPOCHS+1):\n",
        "    train_loss, train_acc = train(train_dataset, train_loader, model, optimizer)\n",
        "    valid_loss, valid_acc = evaluate(valid_dataset, valid_loader, model)\n",
        "    scheduler.step(valid_loss)\n",
        "    if valid_acc > best_acc:\n",
        "      best_acc = valid_acc\n",
        "      torch.save(model.state_dict(), \"model_fold_{}.pth\".format(fold))\n",
        "    epoch_len = len(str(EPOCHS))\n",
        "    print_msg = (f'[{epoch:>{epoch_len}}/{EPOCHS:>{epoch_len}}] ' +\n",
        "                     f'train_loss: {train_loss:.5f} ' +\n",
        "                     f'train_acc: {train_acc:.5f} ' +\n",
        "                     f'valid_loss: {valid_loss:.5f} ' +\n",
        "                     f'valid_acc: {valid_acc:.5f}'\n",
        "                    )\n",
        "    val_scores.append(valid_acc)\n",
        "    print(print_msg)\n",
        "    early_stopping(valid_loss, model)\n",
        "    if early_stopping.early_stop:\n",
        "      print(\"Early stopping\")\n",
        "      break\n",
        "  plt.style.use('ggplot')\n",
        "  plt.figure()\n",
        "  plt.plot(np.arange(0, len(val_scores)), val_scores, label='val_scores')\n",
        "  plt.title('accuracy Score')\n",
        "  plt.xlabel('# of epochs')\n",
        "  plt.ylabel('accuracy Score')\n",
        "  plt.legend(loc='lower right')\n",
        "  plt.show()"
      ],
      "execution_count": 20,
      "outputs": []
    },
    {
      "cell_type": "code",
      "metadata": {
        "id": "ZC4qSikxAr8M",
        "colab_type": "code",
        "colab": {}
      },
      "source": [
        "train_df = pd.read_csv('train_folds.csv')"
      ],
      "execution_count": 21,
      "outputs": []
    },
    {
      "cell_type": "code",
      "metadata": {
        "id": "bv6hD4MW5WIN",
        "colab_type": "code",
        "colab": {
          "base_uri": "https://localhost:8080/",
          "height": 1000,
          "referenced_widgets": [
            "3b60867d4fa1493d9b139cc76b501eb1",
            "6b2db6df158647e9b82ae47ff990d991",
            "05d1cd9d22dd4fb3b2e7e4c4d87c2318",
            "930c86fd1ee2426db6bf13d84d4ab0b7",
            "6ba84766c8a541c888ab39f94385e7b0",
            "2f531641ac354b86913bd2ee592943a1",
            "92159aba2be74bc4a469275284f6b761",
            "3a2c833f4b004ee4a7d15861e7568dc1"
          ]
        },
        "outputId": "d0dafcdc-ce60-4035-88ea-ae58bf9e1db1"
      },
      "source": [
        "main(0,train_df)"
      ],
      "execution_count": 22,
      "outputs": [
        {
          "output_type": "stream",
          "text": [
            "Downloading: \"https://github.com/lukemelas/EfficientNet-PyTorch/releases/download/1.0/efficientnet-b7-dcc49843.pth\" to /root/.cache/torch/checkpoints/efficientnet-b7-dcc49843.pth\n"
          ],
          "name": "stderr"
        },
        {
          "output_type": "display_data",
          "data": {
            "application/vnd.jupyter.widget-view+json": {
              "model_id": "3b60867d4fa1493d9b139cc76b501eb1",
              "version_minor": 0,
              "version_major": 2
            },
            "text/plain": [
              "HBox(children=(FloatProgress(value=0.0, max=266860719.0), HTML(value='')))"
            ]
          },
          "metadata": {
            "tags": []
          }
        },
        {
          "output_type": "stream",
          "text": [
            "\n",
            "Loaded pretrained weights for efficientnet-b7\n",
            "FOLD :  0\n"
          ],
          "name": "stdout"
        },
        {
          "output_type": "stream",
          "text": [
            "19it [00:11,  1.61it/s]"
          ],
          "name": "stderr"
        },
        {
          "output_type": "stream",
          "text": [
            "=================TRAIN==================\n",
            "accuracy = 0.31359649122807015,  loss = 1.9933750629425049\n"
          ],
          "name": "stdout"
        },
        {
          "output_type": "stream",
          "text": [
            "\n",
            "5it [00:01,  4.23it/s]                       \n"
          ],
          "name": "stderr"
        },
        {
          "output_type": "stream",
          "text": [
            "=================VALID==================\n",
            "accuracy = 0.3736111111111111,  loss = 1.9279435873031616\n",
            "[ 1/10] train_loss: 1.99338 train_acc: 0.31360 valid_loss: 1.92794 valid_acc: 0.37361\n",
            "Validation loss decreased (inf --> 1.927944).  Saving model ...\n"
          ],
          "name": "stdout"
        },
        {
          "output_type": "stream",
          "text": [
            "19it [00:11,  1.65it/s]"
          ],
          "name": "stderr"
        },
        {
          "output_type": "stream",
          "text": [
            "=================TRAIN==================\n",
            "accuracy = 0.6995614035087719,  loss = 1.5628474950790405\n"
          ],
          "name": "stdout"
        },
        {
          "output_type": "stream",
          "text": [
            "\n",
            "5it [00:01,  4.20it/s]                       \n"
          ],
          "name": "stderr"
        },
        {
          "output_type": "stream",
          "text": [
            "=================VALID==================\n",
            "accuracy = 0.5361111111111111,  loss = 1.6033241748809814\n",
            "[ 2/10] train_loss: 1.56285 train_acc: 0.69956 valid_loss: 1.60332 valid_acc: 0.53611\n",
            "Validation loss decreased (1.927944 --> 1.603324).  Saving model ...\n"
          ],
          "name": "stdout"
        },
        {
          "output_type": "stream",
          "text": [
            "19it [00:11,  1.66it/s]"
          ],
          "name": "stderr"
        },
        {
          "output_type": "stream",
          "text": [
            "=================TRAIN==================\n",
            "accuracy = 0.787280701754386,  loss = 1.101426362991333\n"
          ],
          "name": "stdout"
        },
        {
          "output_type": "stream",
          "text": [
            "\n",
            "5it [00:01,  4.29it/s]                       \n"
          ],
          "name": "stderr"
        },
        {
          "output_type": "stream",
          "text": [
            "=================VALID==================\n",
            "accuracy = 0.5958333333333333,  loss = 1.2140071392059326\n",
            "[ 3/10] train_loss: 1.10143 train_acc: 0.78728 valid_loss: 1.21401 valid_acc: 0.59583\n",
            "Validation loss decreased (1.603324 --> 1.214007).  Saving model ...\n"
          ],
          "name": "stdout"
        },
        {
          "output_type": "stream",
          "text": [
            "19it [00:11,  1.68it/s]"
          ],
          "name": "stderr"
        },
        {
          "output_type": "stream",
          "text": [
            "=================TRAIN==================\n",
            "accuracy = 0.8640350877192983,  loss = 0.682379424571991\n"
          ],
          "name": "stdout"
        },
        {
          "output_type": "stream",
          "text": [
            "\n",
            "5it [00:01,  4.18it/s]                       \n"
          ],
          "name": "stderr"
        },
        {
          "output_type": "stream",
          "text": [
            "=================VALID==================\n",
            "accuracy = 0.6930555555555555,  loss = 0.9837394952774048\n",
            "[ 4/10] train_loss: 0.68238 train_acc: 0.86404 valid_loss: 0.98374 valid_acc: 0.69306\n",
            "Validation loss decreased (1.214007 --> 0.983739).  Saving model ...\n"
          ],
          "name": "stdout"
        },
        {
          "output_type": "stream",
          "text": [
            "19it [00:11,  1.66it/s]"
          ],
          "name": "stderr"
        },
        {
          "output_type": "stream",
          "text": [
            "=================TRAIN==================\n",
            "accuracy = 0.9539473684210527,  loss = 0.4043830633163452\n"
          ],
          "name": "stdout"
        },
        {
          "output_type": "stream",
          "text": [
            "\n",
            "5it [00:01,  4.08it/s]                       \n"
          ],
          "name": "stderr"
        },
        {
          "output_type": "stream",
          "text": [
            "=================VALID==================\n",
            "accuracy = 0.7680555555555555,  loss = 0.7668561935424805\n",
            "[ 5/10] train_loss: 0.40438 train_acc: 0.95395 valid_loss: 0.76686 valid_acc: 0.76806\n",
            "Validation loss decreased (0.983739 --> 0.766856).  Saving model ...\n"
          ],
          "name": "stdout"
        },
        {
          "output_type": "stream",
          "text": [
            "19it [00:11,  1.65it/s]"
          ],
          "name": "stderr"
        },
        {
          "output_type": "stream",
          "text": [
            "=================TRAIN==================\n",
            "accuracy = 0.9671052631578947,  loss = 0.23986639082431793\n"
          ],
          "name": "stdout"
        },
        {
          "output_type": "stream",
          "text": [
            "\n",
            "5it [00:01,  4.35it/s]                       \n"
          ],
          "name": "stderr"
        },
        {
          "output_type": "stream",
          "text": [
            "=================VALID==================\n",
            "accuracy = 0.8277777777777778,  loss = 0.6209527254104614\n",
            "[ 6/10] train_loss: 0.23987 train_acc: 0.96711 valid_loss: 0.62095 valid_acc: 0.82778\n",
            "Validation loss decreased (0.766856 --> 0.620953).  Saving model ...\n"
          ],
          "name": "stdout"
        },
        {
          "output_type": "stream",
          "text": [
            "19it [00:11,  1.66it/s]"
          ],
          "name": "stderr"
        },
        {
          "output_type": "stream",
          "text": [
            "=================TRAIN==================\n",
            "accuracy = 0.9660087719298246,  loss = 0.22090992331504822\n"
          ],
          "name": "stdout"
        },
        {
          "output_type": "stream",
          "text": [
            "\n",
            "5it [00:01,  4.16it/s]                       \n"
          ],
          "name": "stderr"
        },
        {
          "output_type": "stream",
          "text": [
            "=================VALID==================\n",
            "accuracy = 0.8277777777777778,  loss = 0.5916391015052795\n",
            "[ 7/10] train_loss: 0.22091 train_acc: 0.96601 valid_loss: 0.59164 valid_acc: 0.82778\n",
            "Validation loss decreased (0.620953 --> 0.591639).  Saving model ...\n"
          ],
          "name": "stdout"
        },
        {
          "output_type": "stream",
          "text": [
            "19it [00:11,  1.64it/s]"
          ],
          "name": "stderr"
        },
        {
          "output_type": "stream",
          "text": [
            "=================TRAIN==================\n",
            "accuracy = 0.9967105263157895,  loss = 0.08027153462171555\n"
          ],
          "name": "stdout"
        },
        {
          "output_type": "stream",
          "text": [
            "\n",
            "5it [00:01,  4.11it/s]                       "
          ],
          "name": "stderr"
        },
        {
          "output_type": "stream",
          "text": [
            "=================VALID==================\n",
            "accuracy = 0.8277777777777778,  loss = 0.622902512550354\n",
            "[ 8/10] train_loss: 0.08027 train_acc: 0.99671 valid_loss: 0.62290 valid_acc: 0.82778\n",
            "EarlyStopping counter: 1 out of 5\n"
          ],
          "name": "stdout"
        },
        {
          "output_type": "stream",
          "text": [
            "\n",
            "19it [00:11,  1.67it/s]"
          ],
          "name": "stderr"
        },
        {
          "output_type": "stream",
          "text": [
            "=================TRAIN==================\n",
            "accuracy = 0.9868421052631579,  loss = 0.11352227628231049\n"
          ],
          "name": "stdout"
        },
        {
          "output_type": "stream",
          "text": [
            "\n",
            "5it [00:01,  4.15it/s]                       \n"
          ],
          "name": "stderr"
        },
        {
          "output_type": "stream",
          "text": [
            "=================VALID==================\n",
            "accuracy = 0.8152777777777779,  loss = 0.5863952040672302\n",
            "[ 9/10] train_loss: 0.11352 train_acc: 0.98684 valid_loss: 0.58640 valid_acc: 0.81528\n",
            "Validation loss decreased (0.591639 --> 0.586395).  Saving model ...\n"
          ],
          "name": "stdout"
        },
        {
          "output_type": "stream",
          "text": [
            "19it [00:11,  1.60it/s]"
          ],
          "name": "stderr"
        },
        {
          "output_type": "stream",
          "text": [
            "=================TRAIN==================\n",
            "accuracy = 0.993421052631579,  loss = 0.07427769154310226\n"
          ],
          "name": "stdout"
        },
        {
          "output_type": "stream",
          "text": [
            "\n",
            "5it [00:01,  4.12it/s]                       \n"
          ],
          "name": "stderr"
        },
        {
          "output_type": "stream",
          "text": [
            "=================VALID==================\n",
            "accuracy = 0.8402777777777779,  loss = 0.5441588759422302\n",
            "[10/10] train_loss: 0.07428 train_acc: 0.99342 valid_loss: 0.54416 valid_acc: 0.84028\n",
            "Validation loss decreased (0.586395 --> 0.544159).  Saving model ...\n"
          ],
          "name": "stdout"
        },
        {
          "output_type": "display_data",
          "data": {
            "image/png": "[encoded data removed]",
            "text/plain": [
              "<Figure size 432x288 with 1 Axes>"
            ]
          },
          "metadata": {
            "tags": []
          }
        }
      ]
    },
    {
      "cell_type": "code",
      "metadata": {
        "id": "F-JCCbqHFbe5",
        "colab_type": "code",
        "colab": {
          "base_uri": "https://localhost:8080/",
          "height": 1000
        },
        "outputId": "a309d193-e828-4961-ea23-7359135c413e"
      },
      "source": [
        "main(1,train_df)"
      ],
      "execution_count": 23,
      "outputs": [
        {
          "output_type": "stream",
          "text": [
            "Loaded pretrained weights for efficientnet-b7\n",
            "FOLD :  1\n"
          ],
          "name": "stdout"
        },
        {
          "output_type": "stream",
          "text": [
            "19it [00:11,  1.66it/s]"
          ],
          "name": "stderr"
        },
        {
          "output_type": "stream",
          "text": [
            "=================TRAIN==================\n",
            "accuracy = 0.2675438596491228,  loss = 2.0112342834472656\n"
          ],
          "name": "stdout"
        },
        {
          "output_type": "stream",
          "text": [
            "\n",
            "5it [00:01,  3.91it/s]                       \n"
          ],
          "name": "stderr"
        },
        {
          "output_type": "stream",
          "text": [
            "=================VALID==================\n",
            "accuracy = 0.3194444444444445,  loss = 1.9685182571411133\n",
            "[ 1/10] train_loss: 2.01123 train_acc: 0.26754 valid_loss: 1.96852 valid_acc: 0.31944\n",
            "Validation loss decreased (inf --> 1.968518).  Saving model ...\n"
          ],
          "name": "stdout"
        },
        {
          "output_type": "stream",
          "text": [
            "19it [00:11,  1.63it/s]"
          ],
          "name": "stderr"
        },
        {
          "output_type": "stream",
          "text": [
            "=================TRAIN==================\n",
            "accuracy = 0.7280701754385965,  loss = 1.6055470705032349\n"
          ],
          "name": "stdout"
        },
        {
          "output_type": "stream",
          "text": [
            "\n",
            "5it [00:01,  3.84it/s]                       \n"
          ],
          "name": "stderr"
        },
        {
          "output_type": "stream",
          "text": [
            "=================VALID==================\n",
            "accuracy = 0.5541666666666667,  loss = 1.6737931966781616\n",
            "[ 2/10] train_loss: 1.60555 train_acc: 0.72807 valid_loss: 1.67379 valid_acc: 0.55417\n",
            "Validation loss decreased (1.968518 --> 1.673793).  Saving model ...\n"
          ],
          "name": "stdout"
        },
        {
          "output_type": "stream",
          "text": [
            "19it [00:11,  1.58it/s]"
          ],
          "name": "stderr"
        },
        {
          "output_type": "stream",
          "text": [
            "=================TRAIN==================\n",
            "accuracy = 0.8212719298245613,  loss = 1.0965787172317505\n"
          ],
          "name": "stdout"
        },
        {
          "output_type": "stream",
          "text": [
            "\n",
            "5it [00:01,  3.79it/s]                       \n"
          ],
          "name": "stderr"
        },
        {
          "output_type": "stream",
          "text": [
            "=================VALID==================\n",
            "accuracy = 0.6861111111111111,  loss = 1.244307279586792\n",
            "[ 3/10] train_loss: 1.09658 train_acc: 0.82127 valid_loss: 1.24431 valid_acc: 0.68611\n",
            "Validation loss decreased (1.673793 --> 1.244307).  Saving model ...\n"
          ],
          "name": "stdout"
        },
        {
          "output_type": "stream",
          "text": [
            "19it [00:11,  1.62it/s]"
          ],
          "name": "stderr"
        },
        {
          "output_type": "stream",
          "text": [
            "=================TRAIN==================\n",
            "accuracy = 0.9046052631578947,  loss = 0.6465493440628052\n"
          ],
          "name": "stdout"
        },
        {
          "output_type": "stream",
          "text": [
            "\n",
            "5it [00:01,  3.80it/s]                       \n"
          ],
          "name": "stderr"
        },
        {
          "output_type": "stream",
          "text": [
            "=================VALID==================\n",
            "accuracy = 0.7180555555555556,  loss = 0.9391693472862244\n",
            "[ 4/10] train_loss: 0.64655 train_acc: 0.90461 valid_loss: 0.93917 valid_acc: 0.71806\n",
            "Validation loss decreased (1.244307 --> 0.939169).  Saving model ...\n"
          ],
          "name": "stdout"
        },
        {
          "output_type": "stream",
          "text": [
            "19it [00:11,  1.64it/s]"
          ],
          "name": "stderr"
        },
        {
          "output_type": "stream",
          "text": [
            "=================TRAIN==================\n",
            "accuracy = 0.9473684210526315,  loss = 0.3687507212162018\n"
          ],
          "name": "stdout"
        },
        {
          "output_type": "stream",
          "text": [
            "\n",
            "5it [00:01,  3.83it/s]                       \n"
          ],
          "name": "stderr"
        },
        {
          "output_type": "stream",
          "text": [
            "=================VALID==================\n",
            "accuracy = 0.7680555555555555,  loss = 0.7899332046508789\n",
            "[ 5/10] train_loss: 0.36875 train_acc: 0.94737 valid_loss: 0.78993 valid_acc: 0.76806\n",
            "Validation loss decreased (0.939169 --> 0.789933).  Saving model ...\n"
          ],
          "name": "stdout"
        },
        {
          "output_type": "stream",
          "text": [
            "19it [00:11,  1.61it/s]"
          ],
          "name": "stderr"
        },
        {
          "output_type": "stream",
          "text": [
            "=================TRAIN==================\n",
            "accuracy = 0.9703947368421053,  loss = 0.2249479591846466\n"
          ],
          "name": "stdout"
        },
        {
          "output_type": "stream",
          "text": [
            "\n",
            "5it [00:01,  3.81it/s]                       \n"
          ],
          "name": "stderr"
        },
        {
          "output_type": "stream",
          "text": [
            "=================VALID==================\n",
            "accuracy = 0.7583333333333333,  loss = 0.7380823493003845\n",
            "[ 6/10] train_loss: 0.22495 train_acc: 0.97039 valid_loss: 0.73808 valid_acc: 0.75833\n",
            "Validation loss decreased (0.789933 --> 0.738082).  Saving model ...\n"
          ],
          "name": "stdout"
        },
        {
          "output_type": "stream",
          "text": [
            "19it [00:11,  1.65it/s]"
          ],
          "name": "stderr"
        },
        {
          "output_type": "stream",
          "text": [
            "=================TRAIN==================\n",
            "accuracy = 0.9517543859649122,  loss = 0.16188448667526245\n"
          ],
          "name": "stdout"
        },
        {
          "output_type": "stream",
          "text": [
            "\n",
            "5it [00:01,  3.89it/s]                       \n"
          ],
          "name": "stderr"
        },
        {
          "output_type": "stream",
          "text": [
            "=================VALID==================\n",
            "accuracy = 0.7833333333333333,  loss = 0.7116920351982117\n",
            "[ 7/10] train_loss: 0.16188 train_acc: 0.95175 valid_loss: 0.71169 valid_acc: 0.78333\n",
            "Validation loss decreased (0.738082 --> 0.711692).  Saving model ...\n"
          ],
          "name": "stdout"
        },
        {
          "output_type": "stream",
          "text": [
            "19it [00:12,  1.55it/s]"
          ],
          "name": "stderr"
        },
        {
          "output_type": "stream",
          "text": [
            "=================TRAIN==================\n",
            "accuracy = 0.9725877192982457,  loss = 0.14619606733322144\n"
          ],
          "name": "stdout"
        },
        {
          "output_type": "stream",
          "text": [
            "\n",
            "5it [00:01,  3.84it/s]                       \n"
          ],
          "name": "stderr"
        },
        {
          "output_type": "stream",
          "text": [
            "=================VALID==================\n",
            "accuracy = 0.7958333333333333,  loss = 0.6582961678504944\n",
            "[ 8/10] train_loss: 0.14620 train_acc: 0.97259 valid_loss: 0.65830 valid_acc: 0.79583\n",
            "Validation loss decreased (0.711692 --> 0.658296).  Saving model ...\n"
          ],
          "name": "stdout"
        },
        {
          "output_type": "stream",
          "text": [
            "19it [00:11,  1.64it/s]"
          ],
          "name": "stderr"
        },
        {
          "output_type": "stream",
          "text": [
            "=================TRAIN==================\n",
            "accuracy = 0.9901315789473685,  loss = 0.09227080643177032\n"
          ],
          "name": "stdout"
        },
        {
          "output_type": "stream",
          "text": [
            "\n",
            "5it [00:01,  3.90it/s]                       "
          ],
          "name": "stderr"
        },
        {
          "output_type": "stream",
          "text": [
            "=================VALID==================\n",
            "accuracy = 0.7833333333333333,  loss = 0.6787745356559753\n",
            "[ 9/10] train_loss: 0.09227 train_acc: 0.99013 valid_loss: 0.67877 valid_acc: 0.78333\n",
            "EarlyStopping counter: 1 out of 5\n"
          ],
          "name": "stdout"
        },
        {
          "output_type": "stream",
          "text": [
            "\n",
            "19it [00:11,  1.68it/s]"
          ],
          "name": "stderr"
        },
        {
          "output_type": "stream",
          "text": [
            "=================TRAIN==================\n",
            "accuracy = 0.9901315789473685,  loss = 0.08053015917539597\n"
          ],
          "name": "stdout"
        },
        {
          "output_type": "stream",
          "text": [
            "\n",
            "5it [00:01,  3.87it/s]                       \n"
          ],
          "name": "stderr"
        },
        {
          "output_type": "stream",
          "text": [
            "=================VALID==================\n",
            "accuracy = 0.7708333333333333,  loss = 0.7446662187576294\n",
            "[10/10] train_loss: 0.08053 train_acc: 0.99013 valid_loss: 0.74467 valid_acc: 0.77083\n",
            "EarlyStopping counter: 2 out of 5\n"
          ],
          "name": "stdout"
        },
        {
          "output_type": "display_data",
          "data": {
            "image/png": "[encoded data removed]",
            "text/plain": [
              "<Figure size 432x288 with 1 Axes>"
            ]
          },
          "metadata": {
            "tags": []
          }
        }
      ]
    },
    {
      "cell_type": "code",
      "metadata": {
        "id": "ajnXZ97OFiDG",
        "colab_type": "code",
        "colab": {
          "base_uri": "https://localhost:8080/",
          "height": 1000
        },
        "outputId": "559aeb6d-eeee-4f1c-a5a0-f38758c4be39"
      },
      "source": [
        "main(2,train_df)"
      ],
      "execution_count": 24,
      "outputs": [
        {
          "output_type": "stream",
          "text": [
            "Loaded pretrained weights for efficientnet-b7\n",
            "FOLD :  2\n"
          ],
          "name": "stdout"
        },
        {
          "output_type": "stream",
          "text": [
            "19it [00:11,  1.65it/s]"
          ],
          "name": "stderr"
        },
        {
          "output_type": "stream",
          "text": [
            "=================TRAIN==================\n",
            "accuracy = 0.28728070175438597,  loss = 2.00166654586792\n"
          ],
          "name": "stdout"
        },
        {
          "output_type": "stream",
          "text": [
            "\n",
            "5it [00:01,  3.81it/s]                       \n"
          ],
          "name": "stderr"
        },
        {
          "output_type": "stream",
          "text": [
            "=================VALID==================\n",
            "accuracy = 0.37222222222222223,  loss = 1.9413403272628784\n",
            "[ 1/10] train_loss: 2.00167 train_acc: 0.28728 valid_loss: 1.94134 valid_acc: 0.37222\n",
            "Validation loss decreased (inf --> 1.941340).  Saving model ...\n"
          ],
          "name": "stdout"
        },
        {
          "output_type": "stream",
          "text": [
            "19it [00:11,  1.64it/s]"
          ],
          "name": "stderr"
        },
        {
          "output_type": "stream",
          "text": [
            "=================TRAIN==================\n",
            "accuracy = 0.7258771929824561,  loss = 1.5913256406784058\n"
          ],
          "name": "stdout"
        },
        {
          "output_type": "stream",
          "text": [
            "\n",
            "5it [00:01,  3.80it/s]                       \n"
          ],
          "name": "stderr"
        },
        {
          "output_type": "stream",
          "text": [
            "=================VALID==================\n",
            "accuracy = 0.6097222222222223,  loss = 1.6939667463302612\n",
            "[ 2/10] train_loss: 1.59133 train_acc: 0.72588 valid_loss: 1.69397 valid_acc: 0.60972\n",
            "Validation loss decreased (1.941340 --> 1.693967).  Saving model ...\n"
          ],
          "name": "stdout"
        },
        {
          "output_type": "stream",
          "text": [
            "19it [00:11,  1.61it/s]"
          ],
          "name": "stderr"
        },
        {
          "output_type": "stream",
          "text": [
            "=================TRAIN==================\n",
            "accuracy = 0.837719298245614,  loss = 1.1291381120681763\n"
          ],
          "name": "stdout"
        },
        {
          "output_type": "stream",
          "text": [
            "\n",
            "5it [00:01,  3.84it/s]                       \n"
          ],
          "name": "stderr"
        },
        {
          "output_type": "stream",
          "text": [
            "=================VALID==================\n",
            "accuracy = 0.6791666666666667,  loss = 1.3497064113616943\n",
            "[ 3/10] train_loss: 1.12914 train_acc: 0.83772 valid_loss: 1.34971 valid_acc: 0.67917\n",
            "Validation loss decreased (1.693967 --> 1.349706).  Saving model ...\n"
          ],
          "name": "stdout"
        },
        {
          "output_type": "stream",
          "text": [
            "19it [00:12,  1.57it/s]"
          ],
          "name": "stderr"
        },
        {
          "output_type": "stream",
          "text": [
            "=================TRAIN==================\n",
            "accuracy = 0.9276315789473685,  loss = 0.6636374592781067\n"
          ],
          "name": "stdout"
        },
        {
          "output_type": "stream",
          "text": [
            "\n",
            "5it [00:01,  3.89it/s]                       \n"
          ],
          "name": "stderr"
        },
        {
          "output_type": "stream",
          "text": [
            "=================VALID==================\n",
            "accuracy = 0.7138888888888889,  loss = 0.9955178499221802\n",
            "[ 4/10] train_loss: 0.66364 train_acc: 0.92763 valid_loss: 0.99552 valid_acc: 0.71389\n",
            "Validation loss decreased (1.349706 --> 0.995518).  Saving model ...\n"
          ],
          "name": "stdout"
        },
        {
          "output_type": "stream",
          "text": [
            "19it [00:11,  1.64it/s]"
          ],
          "name": "stderr"
        },
        {
          "output_type": "stream",
          "text": [
            "=================TRAIN==================\n",
            "accuracy = 0.9396929824561404,  loss = 0.36539340019226074\n"
          ],
          "name": "stdout"
        },
        {
          "output_type": "stream",
          "text": [
            "\n",
            "5it [00:01,  3.79it/s]                       \n"
          ],
          "name": "stderr"
        },
        {
          "output_type": "stream",
          "text": [
            "=================VALID==================\n",
            "accuracy = 0.7611111111111111,  loss = 0.8068162798881531\n",
            "[ 5/10] train_loss: 0.36539 train_acc: 0.93969 valid_loss: 0.80682 valid_acc: 0.76111\n",
            "Validation loss decreased (0.995518 --> 0.806816).  Saving model ...\n"
          ],
          "name": "stdout"
        },
        {
          "output_type": "stream",
          "text": [
            "19it [00:11,  1.63it/s]"
          ],
          "name": "stderr"
        },
        {
          "output_type": "stream",
          "text": [
            "=================TRAIN==================\n",
            "accuracy = 0.9594298245614036,  loss = 0.21802902221679688\n"
          ],
          "name": "stdout"
        },
        {
          "output_type": "stream",
          "text": [
            "\n",
            "5it [00:01,  3.86it/s]                       \n"
          ],
          "name": "stderr"
        },
        {
          "output_type": "stream",
          "text": [
            "=================VALID==================\n",
            "accuracy = 0.7833333333333333,  loss = 0.7499302625656128\n",
            "[ 6/10] train_loss: 0.21803 train_acc: 0.95943 valid_loss: 0.74993 valid_acc: 0.78333\n",
            "Validation loss decreased (0.806816 --> 0.749930).  Saving model ...\n"
          ],
          "name": "stdout"
        },
        {
          "output_type": "stream",
          "text": [
            "19it [00:11,  1.61it/s]"
          ],
          "name": "stderr"
        },
        {
          "output_type": "stream",
          "text": [
            "=================TRAIN==================\n",
            "accuracy = 0.9967105263157895,  loss = 0.1052439883351326\n"
          ],
          "name": "stdout"
        },
        {
          "output_type": "stream",
          "text": [
            "\n",
            "5it [00:01,  3.84it/s]                       "
          ],
          "name": "stderr"
        },
        {
          "output_type": "stream",
          "text": [
            "=================VALID==================\n",
            "accuracy = 0.7833333333333333,  loss = 0.7844291925430298\n",
            "[ 7/10] train_loss: 0.10524 train_acc: 0.99671 valid_loss: 0.78443 valid_acc: 0.78333\n",
            "EarlyStopping counter: 1 out of 5\n"
          ],
          "name": "stdout"
        },
        {
          "output_type": "stream",
          "text": [
            "\n",
            "19it [00:11,  1.65it/s]"
          ],
          "name": "stderr"
        },
        {
          "output_type": "stream",
          "text": [
            "=================TRAIN==================\n",
            "accuracy = 0.9725877192982457,  loss = 0.12437675148248672\n"
          ],
          "name": "stdout"
        },
        {
          "output_type": "stream",
          "text": [
            "\n",
            "5it [00:01,  3.79it/s]                       "
          ],
          "name": "stderr"
        },
        {
          "output_type": "stream",
          "text": [
            "=================VALID==================\n",
            "accuracy = 0.7833333333333333,  loss = 0.857618510723114\n",
            "[ 8/10] train_loss: 0.12438 train_acc: 0.97259 valid_loss: 0.85762 valid_acc: 0.78333\n",
            "EarlyStopping counter: 2 out of 5\n"
          ],
          "name": "stdout"
        },
        {
          "output_type": "stream",
          "text": [
            "\n",
            "19it [00:11,  1.65it/s]"
          ],
          "name": "stderr"
        },
        {
          "output_type": "stream",
          "text": [
            "=================TRAIN==================\n",
            "accuracy = 0.9967105263157895,  loss = 0.06645363569259644\n"
          ],
          "name": "stdout"
        },
        {
          "output_type": "stream",
          "text": [
            "\n",
            "5it [00:01,  3.79it/s]                       \n"
          ],
          "name": "stderr"
        },
        {
          "output_type": "stream",
          "text": [
            "=================VALID==================\n",
            "accuracy = 0.8083333333333333,  loss = 0.8885167241096497\n",
            "[ 9/10] train_loss: 0.06645 train_acc: 0.99671 valid_loss: 0.88852 valid_acc: 0.80833\n",
            "EarlyStopping counter: 3 out of 5\n"
          ],
          "name": "stdout"
        },
        {
          "output_type": "stream",
          "text": [
            "19it [00:11,  1.65it/s]"
          ],
          "name": "stderr"
        },
        {
          "output_type": "stream",
          "text": [
            "=================TRAIN==================\n",
            "accuracy = 0.9967105263157895,  loss = 0.055972568690776825\n"
          ],
          "name": "stdout"
        },
        {
          "output_type": "stream",
          "text": [
            "\n",
            "5it [00:01,  3.81it/s]                       \n"
          ],
          "name": "stderr"
        },
        {
          "output_type": "stream",
          "text": [
            "=================VALID==================\n",
            "accuracy = 0.7958333333333333,  loss = 0.8364161849021912\n",
            "[10/10] train_loss: 0.05597 train_acc: 0.99671 valid_loss: 0.83642 valid_acc: 0.79583\n",
            "EarlyStopping counter: 4 out of 5\n"
          ],
          "name": "stdout"
        },
        {
          "output_type": "display_data",
          "data": {
            "image/png": "[encoded data removed]",
            "text/plain": [
              "<Figure size 432x288 with 1 Axes>"
            ]
          },
          "metadata": {
            "tags": []
          }
        }
      ]
    },
    {
      "cell_type": "code",
      "metadata": {
        "id": "c7jMaVXGFj6g",
        "colab_type": "code",
        "colab": {
          "base_uri": "https://localhost:8080/",
          "height": 1000
        },
        "outputId": "dba576f2-4ef4-49da-edaa-58c2876b9fb1"
      },
      "source": [
        "main(3,train_df)"
      ],
      "execution_count": 25,
      "outputs": [
        {
          "output_type": "stream",
          "text": [
            "Loaded pretrained weights for efficientnet-b7\n",
            "FOLD :  3\n"
          ],
          "name": "stdout"
        },
        {
          "output_type": "stream",
          "text": [
            "19it [00:11,  1.66it/s]"
          ],
          "name": "stderr"
        },
        {
          "output_type": "stream",
          "text": [
            "=================TRAIN==================\n",
            "accuracy = 0.3530701754385965,  loss = 1.9845607280731201\n"
          ],
          "name": "stdout"
        },
        {
          "output_type": "stream",
          "text": [
            "\n",
            "5it [00:01,  4.42it/s]                       \n"
          ],
          "name": "stderr"
        },
        {
          "output_type": "stream",
          "text": [
            "=================VALID==================\n",
            "accuracy = 0.33472222222222225,  loss = 1.956600546836853\n",
            "[ 1/10] train_loss: 1.98456 train_acc: 0.35307 valid_loss: 1.95660 valid_acc: 0.33472\n",
            "Validation loss decreased (inf --> 1.956601).  Saving model ...\n"
          ],
          "name": "stdout"
        },
        {
          "output_type": "stream",
          "text": [
            "19it [00:12,  1.58it/s]"
          ],
          "name": "stderr"
        },
        {
          "output_type": "stream",
          "text": [
            "=================TRAIN==================\n",
            "accuracy = 0.7203947368421053,  loss = 1.5515419244766235\n"
          ],
          "name": "stdout"
        },
        {
          "output_type": "stream",
          "text": [
            "\n",
            "5it [00:01,  4.41it/s]                       \n"
          ],
          "name": "stderr"
        },
        {
          "output_type": "stream",
          "text": [
            "=================VALID==================\n",
            "accuracy = 0.5458333333333333,  loss = 1.6138864755630493\n",
            "[ 2/10] train_loss: 1.55154 train_acc: 0.72039 valid_loss: 1.61389 valid_acc: 0.54583\n",
            "Validation loss decreased (1.956601 --> 1.613886).  Saving model ...\n"
          ],
          "name": "stdout"
        },
        {
          "output_type": "stream",
          "text": [
            "19it [00:11,  1.61it/s]"
          ],
          "name": "stderr"
        },
        {
          "output_type": "stream",
          "text": [
            "=================TRAIN==================\n",
            "accuracy = 0.8355263157894737,  loss = 1.0267795324325562\n"
          ],
          "name": "stdout"
        },
        {
          "output_type": "stream",
          "text": [
            "\n",
            "5it [00:01,  4.25it/s]                       \n"
          ],
          "name": "stderr"
        },
        {
          "output_type": "stream",
          "text": [
            "=================VALID==================\n",
            "accuracy = 0.6930555555555555,  loss = 1.2060813903808594\n",
            "[ 3/10] train_loss: 1.02678 train_acc: 0.83553 valid_loss: 1.20608 valid_acc: 0.69306\n",
            "Validation loss decreased (1.613886 --> 1.206081).  Saving model ...\n"
          ],
          "name": "stdout"
        },
        {
          "output_type": "stream",
          "text": [
            "19it [00:11,  1.60it/s]"
          ],
          "name": "stderr"
        },
        {
          "output_type": "stream",
          "text": [
            "=================TRAIN==================\n",
            "accuracy = 0.8903508771929826,  loss = 0.6357160806655884\n"
          ],
          "name": "stdout"
        },
        {
          "output_type": "stream",
          "text": [
            "\n",
            "5it [00:01,  4.27it/s]                       \n"
          ],
          "name": "stderr"
        },
        {
          "output_type": "stream",
          "text": [
            "=================VALID==================\n",
            "accuracy = 0.7402777777777778,  loss = 0.9215901494026184\n",
            "[ 4/10] train_loss: 0.63572 train_acc: 0.89035 valid_loss: 0.92159 valid_acc: 0.74028\n",
            "Validation loss decreased (1.206081 --> 0.921590).  Saving model ...\n"
          ],
          "name": "stdout"
        },
        {
          "output_type": "stream",
          "text": [
            "19it [00:11,  1.63it/s]"
          ],
          "name": "stderr"
        },
        {
          "output_type": "stream",
          "text": [
            "=================TRAIN==================\n",
            "accuracy = 0.9605263157894737,  loss = 0.33582592010498047\n"
          ],
          "name": "stdout"
        },
        {
          "output_type": "stream",
          "text": [
            "\n",
            "5it [00:01,  4.33it/s]                       \n"
          ],
          "name": "stderr"
        },
        {
          "output_type": "stream",
          "text": [
            "=================VALID==================\n",
            "accuracy = 0.7680555555555555,  loss = 0.7527844309806824\n",
            "[ 5/10] train_loss: 0.33583 train_acc: 0.96053 valid_loss: 0.75278 valid_acc: 0.76806\n",
            "Validation loss decreased (0.921590 --> 0.752784).  Saving model ...\n"
          ],
          "name": "stdout"
        },
        {
          "output_type": "stream",
          "text": [
            "19it [00:11,  1.61it/s]"
          ],
          "name": "stderr"
        },
        {
          "output_type": "stream",
          "text": [
            "=================TRAIN==================\n",
            "accuracy = 0.9802631578947368,  loss = 0.18285270035266876\n"
          ],
          "name": "stdout"
        },
        {
          "output_type": "stream",
          "text": [
            "\n",
            "5it [00:01,  4.34it/s]                       \n"
          ],
          "name": "stderr"
        },
        {
          "output_type": "stream",
          "text": [
            "=================VALID==================\n",
            "accuracy = 0.7805555555555556,  loss = 0.6908945441246033\n",
            "[ 6/10] train_loss: 0.18285 train_acc: 0.98026 valid_loss: 0.69089 valid_acc: 0.78056\n",
            "Validation loss decreased (0.752784 --> 0.690895).  Saving model ...\n"
          ],
          "name": "stdout"
        },
        {
          "output_type": "stream",
          "text": [
            "19it [00:11,  1.59it/s]"
          ],
          "name": "stderr"
        },
        {
          "output_type": "stream",
          "text": [
            "=================TRAIN==================\n",
            "accuracy = 0.9967105263157895,  loss = 0.09651166200637817\n"
          ],
          "name": "stdout"
        },
        {
          "output_type": "stream",
          "text": [
            "\n",
            "5it [00:01,  4.33it/s]                       \n"
          ],
          "name": "stderr"
        },
        {
          "output_type": "stream",
          "text": [
            "=================VALID==================\n",
            "accuracy = 0.8527777777777779,  loss = 0.6371906399726868\n",
            "[ 7/10] train_loss: 0.09651 train_acc: 0.99671 valid_loss: 0.63719 valid_acc: 0.85278\n",
            "Validation loss decreased (0.690895 --> 0.637191).  Saving model ...\n"
          ],
          "name": "stdout"
        },
        {
          "output_type": "stream",
          "text": [
            "19it [00:12,  1.55it/s]"
          ],
          "name": "stderr"
        },
        {
          "output_type": "stream",
          "text": [
            "=================TRAIN==================\n",
            "accuracy = 0.9967105263157895,  loss = 0.08315356075763702\n"
          ],
          "name": "stdout"
        },
        {
          "output_type": "stream",
          "text": [
            "\n",
            "5it [00:01,  4.30it/s]                       \n"
          ],
          "name": "stderr"
        },
        {
          "output_type": "stream",
          "text": [
            "=================VALID==================\n",
            "accuracy = 0.8180555555555555,  loss = 0.6330471634864807\n",
            "[ 8/10] train_loss: 0.08315 train_acc: 0.99671 valid_loss: 0.63305 valid_acc: 0.81806\n",
            "Validation loss decreased (0.637191 --> 0.633047).  Saving model ...\n"
          ],
          "name": "stdout"
        },
        {
          "output_type": "stream",
          "text": [
            "19it [00:11,  1.63it/s]"
          ],
          "name": "stderr"
        },
        {
          "output_type": "stream",
          "text": [
            "=================TRAIN==================\n",
            "accuracy = 0.993421052631579,  loss = 0.058626025915145874\n"
          ],
          "name": "stdout"
        },
        {
          "output_type": "stream",
          "text": [
            "\n",
            "5it [00:01,  4.33it/s]                       "
          ],
          "name": "stderr"
        },
        {
          "output_type": "stream",
          "text": [
            "=================VALID==================\n",
            "accuracy = 0.8152777777777779,  loss = 0.6406263113021851\n",
            "[ 9/10] train_loss: 0.05863 train_acc: 0.99342 valid_loss: 0.64063 valid_acc: 0.81528\n",
            "EarlyStopping counter: 1 out of 5\n"
          ],
          "name": "stdout"
        },
        {
          "output_type": "stream",
          "text": [
            "\n",
            "19it [00:11,  1.66it/s]"
          ],
          "name": "stderr"
        },
        {
          "output_type": "stream",
          "text": [
            "=================TRAIN==================\n",
            "accuracy = 0.9967105263157895,  loss = 0.04749051481485367\n"
          ],
          "name": "stdout"
        },
        {
          "output_type": "stream",
          "text": [
            "\n",
            "5it [00:01,  4.25it/s]                       \n"
          ],
          "name": "stderr"
        },
        {
          "output_type": "stream",
          "text": [
            "=================VALID==================\n",
            "accuracy = 0.8180555555555555,  loss = 0.6440041661262512\n",
            "[10/10] train_loss: 0.04749 train_acc: 0.99671 valid_loss: 0.64400 valid_acc: 0.81806\n",
            "EarlyStopping counter: 2 out of 5\n"
          ],
          "name": "stdout"
        },
        {
          "output_type": "display_data",
          "data": {
            "image/png": "[encoded data removed]",
            "text/plain": [
              "<Figure size 432x288 with 1 Axes>"
            ]
          },
          "metadata": {
            "tags": []
          }
        }
      ]
    },
    {
      "cell_type": "code",
      "metadata": {
        "id": "dmkn2LuNFlqn",
        "colab_type": "code",
        "colab": {
          "base_uri": "https://localhost:8080/",
          "height": 1000
        },
        "outputId": "370d240a-1c24-4ca3-feed-7a037b345dab"
      },
      "source": [
        "main(4,train_df)"
      ],
      "execution_count": 26,
      "outputs": [
        {
          "output_type": "stream",
          "text": [
            "Loaded pretrained weights for efficientnet-b7\n",
            "FOLD :  4\n"
          ],
          "name": "stdout"
        },
        {
          "output_type": "stream",
          "text": [
            "19it [00:11,  1.64it/s]"
          ],
          "name": "stderr"
        },
        {
          "output_type": "stream",
          "text": [
            "=================TRAIN==================\n",
            "accuracy = 0.3256578947368421,  loss = 1.9985371828079224\n"
          ],
          "name": "stdout"
        },
        {
          "output_type": "stream",
          "text": [
            "\n",
            "5it [00:01,  4.12it/s]                       \n"
          ],
          "name": "stderr"
        },
        {
          "output_type": "stream",
          "text": [
            "=================VALID==================\n",
            "accuracy = 0.4,  loss = 1.9497547149658203\n",
            "[ 1/10] train_loss: 1.99854 train_acc: 0.32566 valid_loss: 1.94975 valid_acc: 0.40000\n",
            "Validation loss decreased (inf --> 1.949755).  Saving model ...\n"
          ],
          "name": "stdout"
        },
        {
          "output_type": "stream",
          "text": [
            "19it [00:11,  1.59it/s]"
          ],
          "name": "stderr"
        },
        {
          "output_type": "stream",
          "text": [
            "=================TRAIN==================\n",
            "accuracy = 0.743421052631579,  loss = 1.5505445003509521\n"
          ],
          "name": "stdout"
        },
        {
          "output_type": "stream",
          "text": [
            "\n",
            "5it [00:01,  4.07it/s]                       \n"
          ],
          "name": "stderr"
        },
        {
          "output_type": "stream",
          "text": [
            "=================VALID==================\n",
            "accuracy = 0.5875,  loss = 1.6438496112823486\n",
            "[ 2/10] train_loss: 1.55054 train_acc: 0.74342 valid_loss: 1.64385 valid_acc: 0.58750\n",
            "Validation loss decreased (1.949755 --> 1.643850).  Saving model ...\n"
          ],
          "name": "stdout"
        },
        {
          "output_type": "stream",
          "text": [
            "19it [00:11,  1.61it/s]"
          ],
          "name": "stderr"
        },
        {
          "output_type": "stream",
          "text": [
            "=================TRAIN==================\n",
            "accuracy = 0.8618421052631579,  loss = 1.1095150709152222\n"
          ],
          "name": "stdout"
        },
        {
          "output_type": "stream",
          "text": [
            "\n",
            "5it [00:01,  4.22it/s]                       \n"
          ],
          "name": "stderr"
        },
        {
          "output_type": "stream",
          "text": [
            "=================VALID==================\n",
            "accuracy = 0.6375,  loss = 1.2445861101150513\n",
            "[ 3/10] train_loss: 1.10952 train_acc: 0.86184 valid_loss: 1.24459 valid_acc: 0.63750\n",
            "Validation loss decreased (1.643850 --> 1.244586).  Saving model ...\n"
          ],
          "name": "stdout"
        },
        {
          "output_type": "stream",
          "text": [
            "19it [00:12,  1.57it/s]"
          ],
          "name": "stderr"
        },
        {
          "output_type": "stream",
          "text": [
            "=================TRAIN==================\n",
            "accuracy = 0.9013157894736842,  loss = 0.6626089811325073\n"
          ],
          "name": "stdout"
        },
        {
          "output_type": "stream",
          "text": [
            "\n",
            "5it [00:01,  4.24it/s]                       \n"
          ],
          "name": "stderr"
        },
        {
          "output_type": "stream",
          "text": [
            "=================VALID==================\n",
            "accuracy = 0.65,  loss = 1.010804295539856\n",
            "[ 4/10] train_loss: 0.66261 train_acc: 0.90132 valid_loss: 1.01080 valid_acc: 0.65000\n",
            "Validation loss decreased (1.244586 --> 1.010804).  Saving model ...\n"
          ],
          "name": "stdout"
        },
        {
          "output_type": "stream",
          "text": [
            "19it [00:11,  1.60it/s]"
          ],
          "name": "stderr"
        },
        {
          "output_type": "stream",
          "text": [
            "=================TRAIN==================\n",
            "accuracy = 0.9407894736842105,  loss = 0.40662962198257446\n"
          ],
          "name": "stdout"
        },
        {
          "output_type": "stream",
          "text": [
            "\n",
            "5it [00:01,  4.13it/s]                       \n"
          ],
          "name": "stderr"
        },
        {
          "output_type": "stream",
          "text": [
            "=================VALID==================\n",
            "accuracy = 0.75,  loss = 0.8029882311820984\n",
            "[ 5/10] train_loss: 0.40663 train_acc: 0.94079 valid_loss: 0.80299 valid_acc: 0.75000\n",
            "Validation loss decreased (1.010804 --> 0.802988).  Saving model ...\n"
          ],
          "name": "stdout"
        },
        {
          "output_type": "stream",
          "text": [
            "19it [00:11,  1.64it/s]"
          ],
          "name": "stderr"
        },
        {
          "output_type": "stream",
          "text": [
            "=================TRAIN==================\n",
            "accuracy = 0.944078947368421,  loss = 0.26998019218444824\n"
          ],
          "name": "stdout"
        },
        {
          "output_type": "stream",
          "text": [
            "\n",
            "5it [00:01,  4.09it/s]                       \n"
          ],
          "name": "stderr"
        },
        {
          "output_type": "stream",
          "text": [
            "=================VALID==================\n",
            "accuracy = 0.7875,  loss = 0.6962352991104126\n",
            "[ 6/10] train_loss: 0.26998 train_acc: 0.94408 valid_loss: 0.69624 valid_acc: 0.78750\n",
            "Validation loss decreased (0.802988 --> 0.696235).  Saving model ...\n"
          ],
          "name": "stdout"
        },
        {
          "output_type": "stream",
          "text": [
            "19it [00:11,  1.63it/s]"
          ],
          "name": "stderr"
        },
        {
          "output_type": "stream",
          "text": [
            "=================TRAIN==================\n",
            "accuracy = 0.9802631578947368,  loss = 0.1355196237564087\n"
          ],
          "name": "stdout"
        },
        {
          "output_type": "stream",
          "text": [
            "\n",
            "5it [00:01,  4.17it/s]                       \n"
          ],
          "name": "stderr"
        },
        {
          "output_type": "stream",
          "text": [
            "=================VALID==================\n",
            "accuracy = 0.8,  loss = 0.6417106986045837\n",
            "[ 7/10] train_loss: 0.13552 train_acc: 0.98026 valid_loss: 0.64171 valid_acc: 0.80000\n",
            "Validation loss decreased (0.696235 --> 0.641711).  Saving model ...\n"
          ],
          "name": "stdout"
        },
        {
          "output_type": "stream",
          "text": [
            "19it [00:12,  1.58it/s]"
          ],
          "name": "stderr"
        },
        {
          "output_type": "stream",
          "text": [
            "=================TRAIN==================\n",
            "accuracy = 0.9901315789473685,  loss = 0.07947549223899841\n"
          ],
          "name": "stdout"
        },
        {
          "output_type": "stream",
          "text": [
            "\n",
            "5it [00:01,  4.21it/s]                       \n"
          ],
          "name": "stderr"
        },
        {
          "output_type": "stream",
          "text": [
            "=================VALID==================\n",
            "accuracy = 0.7875,  loss = 0.5819951295852661\n",
            "[ 8/10] train_loss: 0.07948 train_acc: 0.99013 valid_loss: 0.58200 valid_acc: 0.78750\n",
            "Validation loss decreased (0.641711 --> 0.581995).  Saving model ...\n"
          ],
          "name": "stdout"
        },
        {
          "output_type": "stream",
          "text": [
            "19it [00:12,  1.58it/s]"
          ],
          "name": "stderr"
        },
        {
          "output_type": "stream",
          "text": [
            "=================TRAIN==================\n",
            "accuracy = 1.0,  loss = 0.06313047558069229\n"
          ],
          "name": "stdout"
        },
        {
          "output_type": "stream",
          "text": [
            "\n",
            "5it [00:01,  4.05it/s]                       \n"
          ],
          "name": "stderr"
        },
        {
          "output_type": "stream",
          "text": [
            "=================VALID==================\n",
            "accuracy = 0.8125,  loss = 0.5689485669136047\n",
            "[ 9/10] train_loss: 0.06313 train_acc: 1.00000 valid_loss: 0.56895 valid_acc: 0.81250\n",
            "Validation loss decreased (0.581995 --> 0.568949).  Saving model ...\n"
          ],
          "name": "stdout"
        },
        {
          "output_type": "stream",
          "text": [
            "19it [00:11,  1.62it/s]"
          ],
          "name": "stderr"
        },
        {
          "output_type": "stream",
          "text": [
            "=================TRAIN==================\n",
            "accuracy = 0.9967105263157895,  loss = 0.042994771152734756\n"
          ],
          "name": "stdout"
        },
        {
          "output_type": "stream",
          "text": [
            "\n",
            "5it [00:01,  4.07it/s]                       \n"
          ],
          "name": "stderr"
        },
        {
          "output_type": "stream",
          "text": [
            "=================VALID==================\n",
            "accuracy = 0.8,  loss = 0.5933603644371033\n",
            "[10/10] train_loss: 0.04299 train_acc: 0.99671 valid_loss: 0.59336 valid_acc: 0.80000\n",
            "EarlyStopping counter: 1 out of 5\n"
          ],
          "name": "stdout"
        },
        {
          "output_type": "display_data",
          "data": {
            "image/png": "[encoded data removed]",
            "text/plain": [
              "<Figure size 432x288 with 1 Axes>"
            ]
          },
          "metadata": {
            "tags": []
          }
        }
      ]
    },
    {
      "cell_type": "code",
      "metadata": {
        "id": "tk8UgoguXvwO",
        "colab_type": "code",
        "colab": {
          "base_uri": "https://localhost:8080/",
          "height": 67
        },
        "outputId": "1e4c938a-ba24-452a-a89b-42d9566e31fc"
      },
      "source": [
        "ls"
      ],
      "execution_count": null,
      "outputs": [
        {
          "output_type": "stream",
          "text": [
            "checkpoint.pt  model_fold_0.pth  model_fold_3.pth  train_folds.csv\n",
            "\u001b[0m\u001b[01;34mdataset\u001b[0m/       model_fold_1.pth  model_fold_4.pth\n",
            "\u001b[01;34mdrive\u001b[0m/         model_fold_2.pth  \u001b[01;34msample_data\u001b[0m/\n"
          ],
          "name": "stdout"
        }
      ]
    },
    {
      "cell_type": "code",
      "metadata": {
        "id": "_Jzx3Vk-KlL0",
        "colab_type": "code",
        "colab": {}
      },
      "source": [
        "cp model_fold_0.pth '/content/drive/My Drive/hack_model/'"
      ],
      "execution_count": null,
      "outputs": []
    },
    {
      "cell_type": "code",
      "metadata": {
        "id": "jytXy-VNKzE3",
        "colab_type": "code",
        "colab": {}
      },
      "source": [
        "!cp model_fold_1.pth '/content/drive/My Drive/hack_model/'\n",
        "!cp model_fold_2.pth '/content/drive/My Drive/hack_model/'\n",
        "!cp model_fold_3.pth '/content/drive/My Drive/hack_model/'\n",
        "!cp model_fold_4.pth '/content/drive/My Drive/hack_model/'"
      ],
      "execution_count": null,
      "outputs": []
    },
    {
      "cell_type": "code",
      "metadata": {
        "id": "mETrN_4gLf19",
        "colab_type": "code",
        "colab": {
          "base_uri": "https://localhost:8080/",
          "height": 34
        },
        "outputId": "ebe7b718-e404-44c9-e972-3b44fdbbdfac"
      },
      "source": [
        "ls dataset"
      ],
      "execution_count": 28,
      "outputs": [
        {
          "output_type": "stream",
          "text": [
            "\u001b[0m\u001b[01;34mtest\u001b[0m/  test.csv  \u001b[01;34mtrain\u001b[0m/  train.csv\n"
          ],
          "name": "stdout"
        }
      ]
    },
    {
      "cell_type": "markdown",
      "metadata": {
        "id": "0g_Zx5lB5xDd",
        "colab_type": "text"
      },
      "source": [
        "Inference"
      ]
    },
    {
      "cell_type": "code",
      "metadata": {
        "id": "SDA2rd8f4wFm",
        "colab_type": "code",
        "colab": {}
      },
      "source": [
        "class IndianDanceFormsDatasetTest(Dataset):\n",
        "  def __init__(self, test_df, test_dir, transform=None):\n",
        "    self.test_df = test_df\n",
        "    self.test_dir = test_dir\n",
        "    self.transform = transform\n",
        "  \n",
        "  def __len__(self):\n",
        "    return len(self.test_df)\n",
        "  \n",
        "  def __getitem__(self,idx):\n",
        "    row = self.test_df.loc[idx]\n",
        "    img_id = row['Image']\n",
        "    img = Image.open(os.path.join(self.test_dir, img_id))\n",
        "    if self.transform:\n",
        "      img = self.transform(img)\n",
        "    return {\n",
        "            'image': img\n",
        "            } "
      ],
      "execution_count": 42,
      "outputs": []
    },
    {
      "cell_type": "code",
      "metadata": {
        "id": "628O3MYS7MAG",
        "colab_type": "code",
        "colab": {}
      },
      "source": [
        "class EfficientNetB7(nn.Module):\n",
        "    def __init__(self):\n",
        "        super(EfficientNetB7, self).__init__()\n",
        "        self.base_model = EfficientNet.from_name(\"efficientnet-b7\")        \n",
        "        self.l0 = nn.Linear(2560, 8)\n",
        "\n",
        "    def forward(self, image):\n",
        "        batch_size, _, _, _ = image.shape\n",
        "        x = self.base_model.extract_features(image)\n",
        "        x = F.adaptive_avg_pool2d(x,1).reshape(batch_size,-1)\n",
        "        out = (self.l0(x))\n",
        "        return out"
      ],
      "execution_count": 40,
      "outputs": []
    },
    {
      "cell_type": "code",
      "metadata": {
        "id": "v3CT07w17pXI",
        "colab_type": "code",
        "colab": {}
      },
      "source": [
        "test_df = pd.read_csv('dataset/test.csv')\n",
        "test_dataset = IndianDanceFormsDatasetTest(\n",
        "      test_df = test_df,\n",
        "      test_dir = TEST_DIR,\n",
        "      transform = valid_transform\n",
        ")\n",
        "test_loader = torch.utils.data.DataLoader(\n",
        "        dataset=test_dataset,\n",
        "        batch_size= TEST_BATCH_SIZE,\n",
        "        shuffle=False,\n",
        "        num_workers=4\n",
        ")\n",
        "final_predictions = []\n",
        "models = []\n",
        "for fold in range(0,5):\n",
        "  model = EfficientNetB7()\n",
        "  model.cuda()\n",
        "  model.load_state_dict(torch.load(f'model_fold_{fold}.pth'))\n",
        "  model.eval()\n",
        "  models.append(model)\n",
        "\n",
        "for data in test_loader:\n",
        "  image = data['image'].to(DEVICE, dtype = torch.float)\n",
        "  predictions = []\n",
        "  for model in models:\n",
        "    with torch.no_grad():\n",
        "      output = model(image)\n",
        "      predictions.append(F.softmax(output, dim=1).cpu().detach().numpy())\n",
        "  \n",
        "  predictions = np.mean(predictions, axis=0)\n",
        "  for i in range(len(image)):\n",
        "    dance_pred = np.argmax(predictions[i])\n",
        "    dance_form = original_values[dance_pred]\n",
        "    final_predictions.append(dance_form)"
      ],
      "execution_count": 60,
      "outputs": []
    },
    {
      "cell_type": "code",
      "metadata": {
        "id": "oc56FzjA736k",
        "colab_type": "code",
        "colab": {
          "base_uri": "https://localhost:8080/",
          "height": 195
        },
        "outputId": "f67eb000-d167-49f4-d8d0-66b096325832"
      },
      "source": [
        "final_submission = pd.read_csv('dataset/test.csv')\n",
        "final_submission['target'] = final_predictions\n",
        "final_submission.to_csv('submission.csv', index=False)\n",
        "final_submission.head()"
      ],
      "execution_count": 61,
      "outputs": [
        {
          "output_type": "execute_result",
          "data": {
            "text/html": [
              "<div>\n",
              "<style scoped>\n",
              "    .dataframe tbody tr th:only-of-type {\n",
              "        vertical-align: middle;\n",
              "    }\n",
              "\n",
              "    .dataframe tbody tr th {\n",
              "        vertical-align: top;\n",
              "    }\n",
              "\n",
              "    .dataframe thead th {\n",
              "        text-align: right;\n",
              "    }\n",
              "</style>\n",
              "<table border=\"1\" class=\"dataframe\">\n",
              "  <thead>\n",
              "    <tr style=\"text-align: right;\">\n",
              "      <th></th>\n",
              "      <th>Image</th>\n",
              "      <th>target</th>\n",
              "    </tr>\n",
              "  </thead>\n",
              "  <tbody>\n",
              "    <tr>\n",
              "      <th>0</th>\n",
              "      <td>508.jpg</td>\n",
              "      <td>kuchipudi</td>\n",
              "    </tr>\n",
              "    <tr>\n",
              "      <th>1</th>\n",
              "      <td>246.jpg</td>\n",
              "      <td>kuchipudi</td>\n",
              "    </tr>\n",
              "    <tr>\n",
              "      <th>2</th>\n",
              "      <td>473.jpg</td>\n",
              "      <td>odissi</td>\n",
              "    </tr>\n",
              "    <tr>\n",
              "      <th>3</th>\n",
              "      <td>485.jpg</td>\n",
              "      <td>odissi</td>\n",
              "    </tr>\n",
              "    <tr>\n",
              "      <th>4</th>\n",
              "      <td>128.jpg</td>\n",
              "      <td>bharatanatyam</td>\n",
              "    </tr>\n",
              "  </tbody>\n",
              "</table>\n",
              "</div>"
            ],
            "text/plain": [
              "     Image         target\n",
              "0  508.jpg      kuchipudi\n",
              "1  246.jpg      kuchipudi\n",
              "2  473.jpg         odissi\n",
              "3  485.jpg         odissi\n",
              "4  128.jpg  bharatanatyam"
            ]
          },
          "metadata": {
            "tags": []
          },
          "execution_count": 61
        }
      ]
    },
    {
      "cell_type": "code",
      "metadata": {
        "id": "8B8D8Uy08_r2",
        "colab_type": "code",
        "colab": {}
      },
      "source": [
        ""
      ],
      "execution_count": null,
      "outputs": []
    }
  ]
}